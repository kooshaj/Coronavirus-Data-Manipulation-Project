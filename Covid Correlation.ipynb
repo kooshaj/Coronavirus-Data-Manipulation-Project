{
 "cells": [
  {
   "cell_type": "code",
   "execution_count": 3,
   "metadata": {},
   "outputs": [],
   "source": [
    "import pandas as pd\n",
    "import matplotlib.pyplot as plt\n",
    "from IPython.display import display\n",
    "import ipywidgets as widgets"
   ]
  },
  {
   "cell_type": "code",
   "execution_count": 4,
   "metadata": {},
   "outputs": [],
   "source": [
    "covid_df = pd.read_csv(\"owid-covid-data.csv\")"
   ]
  },
  {
   "cell_type": "code",
   "execution_count": 5,
   "metadata": {},
   "outputs": [
    {
     "data": {
      "text/plain": [
       "Index(['iso_code', 'continent', 'location', 'date', 'total_cases', 'new_cases',\n",
       "       'new_cases_smoothed', 'total_deaths', 'new_deaths',\n",
       "       'new_deaths_smoothed', 'total_cases_per_million',\n",
       "       'new_cases_per_million', 'new_cases_smoothed_per_million',\n",
       "       'total_deaths_per_million', 'new_deaths_per_million',\n",
       "       'new_deaths_smoothed_per_million', 'new_tests', 'total_tests',\n",
       "       'total_tests_per_thousand', 'new_tests_per_thousand',\n",
       "       'new_tests_smoothed', 'new_tests_smoothed_per_thousand',\n",
       "       'tests_per_case', 'positive_rate', 'tests_units', 'stringency_index',\n",
       "       'population', 'population_density', 'median_age', 'aged_65_older',\n",
       "       'aged_70_older', 'gdp_per_capita', 'extreme_poverty',\n",
       "       'cardiovasc_death_rate', 'diabetes_prevalence', 'female_smokers',\n",
       "       'male_smokers', 'handwashing_facilities', 'hospital_beds_per_thousand',\n",
       "       'life_expectancy', 'human_development_index'],\n",
       "      dtype='object')"
      ]
     },
     "execution_count": 5,
     "metadata": {},
     "output_type": "execute_result"
    }
   ],
   "source": [
    "covid_df.columns"
   ]
  },
  {
   "cell_type": "code",
   "execution_count": 6,
   "metadata": {},
   "outputs": [],
   "source": [
    "death_data = [\"new_deaths\", \"new_deaths_per_million\", \"total_deaths\", \"total_deaths_per_million\"] #add death rate(and cadiovascular deaths?)\n",
    "cases_data = [\"new_cases\", \"new_cases_per_million\", \"total_cases\", \"total_cases_per_million\"]\n",
    "test_data = [\"new_tests\", \"total_tests\", \"total_tests_per_thousand\", \"new_tests_per_thousand\", \"tests_per_case\", \"positive_rate\"] #tests_units(?)\n",
    "population_data = [\"population\", \"population_density\", \"median_age\", \"aged_65_older\", \"aged_70_older\", \"gdp_per_capita\", \"extreme_poverty\"]\n",
    "misc_data = [\"diabetes_prevelance\", \"female_smokers\", \"male_smokers\", \"handwashing_facilities\", \"hospital_beds_per_thousand\", \"life_expectancy\", \"human_development_index\", \"stringency_index\"]\n",
    "\n",
    "\n"
   ]
  },
  {
   "cell_type": "code",
   "execution_count": 7,
   "metadata": {},
   "outputs": [
    {
     "data": {
      "text/plain": [
       "['new_deaths',\n",
       " 'new_deaths_per_million',\n",
       " 'total_deaths',\n",
       " 'total_deaths_per_million']"
      ]
     },
     "execution_count": 7,
     "metadata": {},
     "output_type": "execute_result"
    }
   ],
   "source": [
    "variables_dict = {\"Deaths\": death_data, \"Cases\": cases_data, \"Tests\": test_data, \"Population\": population_data, \"Misc\" : misc_data}\n",
    "\n",
    "list(variables_dict.values())[0]"
   ]
  },
  {
   "cell_type": "code",
   "execution_count": 8,
   "metadata": {},
   "outputs": [
    {
     "data": {
      "text/html": [
       "<div>\n",
       "<style scoped>\n",
       "    .dataframe tbody tr th:only-of-type {\n",
       "        vertical-align: middle;\n",
       "    }\n",
       "\n",
       "    .dataframe tbody tr th {\n",
       "        vertical-align: top;\n",
       "    }\n",
       "\n",
       "    .dataframe thead th {\n",
       "        text-align: right;\n",
       "    }\n",
       "</style>\n",
       "<table border=\"1\" class=\"dataframe\">\n",
       "  <thead>\n",
       "    <tr style=\"text-align: right;\">\n",
       "      <th></th>\n",
       "      <th>iso_code</th>\n",
       "      <th>continent</th>\n",
       "      <th>location</th>\n",
       "      <th>date</th>\n",
       "      <th>total_cases</th>\n",
       "      <th>new_cases</th>\n",
       "      <th>new_cases_smoothed</th>\n",
       "      <th>total_deaths</th>\n",
       "      <th>new_deaths</th>\n",
       "      <th>new_deaths_smoothed</th>\n",
       "      <th>...</th>\n",
       "      <th>gdp_per_capita</th>\n",
       "      <th>extreme_poverty</th>\n",
       "      <th>cardiovasc_death_rate</th>\n",
       "      <th>diabetes_prevalence</th>\n",
       "      <th>female_smokers</th>\n",
       "      <th>male_smokers</th>\n",
       "      <th>handwashing_facilities</th>\n",
       "      <th>hospital_beds_per_thousand</th>\n",
       "      <th>life_expectancy</th>\n",
       "      <th>human_development_index</th>\n",
       "    </tr>\n",
       "  </thead>\n",
       "  <tbody>\n",
       "    <tr>\n",
       "      <td>0</td>\n",
       "      <td>ABW</td>\n",
       "      <td>North America</td>\n",
       "      <td>Aruba</td>\n",
       "      <td>2020-03-13</td>\n",
       "      <td>2.0</td>\n",
       "      <td>2.0</td>\n",
       "      <td>NaN</td>\n",
       "      <td>0.0</td>\n",
       "      <td>0.0</td>\n",
       "      <td>NaN</td>\n",
       "      <td>...</td>\n",
       "      <td>35973.781</td>\n",
       "      <td>NaN</td>\n",
       "      <td>NaN</td>\n",
       "      <td>11.62</td>\n",
       "      <td>NaN</td>\n",
       "      <td>NaN</td>\n",
       "      <td>NaN</td>\n",
       "      <td>NaN</td>\n",
       "      <td>76.29</td>\n",
       "      <td>NaN</td>\n",
       "    </tr>\n",
       "    <tr>\n",
       "      <td>1</td>\n",
       "      <td>ABW</td>\n",
       "      <td>North America</td>\n",
       "      <td>Aruba</td>\n",
       "      <td>2020-03-19</td>\n",
       "      <td>NaN</td>\n",
       "      <td>NaN</td>\n",
       "      <td>0.286</td>\n",
       "      <td>NaN</td>\n",
       "      <td>NaN</td>\n",
       "      <td>0.000</td>\n",
       "      <td>...</td>\n",
       "      <td>35973.781</td>\n",
       "      <td>NaN</td>\n",
       "      <td>NaN</td>\n",
       "      <td>11.62</td>\n",
       "      <td>NaN</td>\n",
       "      <td>NaN</td>\n",
       "      <td>NaN</td>\n",
       "      <td>NaN</td>\n",
       "      <td>76.29</td>\n",
       "      <td>NaN</td>\n",
       "    </tr>\n",
       "    <tr>\n",
       "      <td>2</td>\n",
       "      <td>ABW</td>\n",
       "      <td>North America</td>\n",
       "      <td>Aruba</td>\n",
       "      <td>2020-03-20</td>\n",
       "      <td>4.0</td>\n",
       "      <td>2.0</td>\n",
       "      <td>0.286</td>\n",
       "      <td>0.0</td>\n",
       "      <td>0.0</td>\n",
       "      <td>0.000</td>\n",
       "      <td>...</td>\n",
       "      <td>35973.781</td>\n",
       "      <td>NaN</td>\n",
       "      <td>NaN</td>\n",
       "      <td>11.62</td>\n",
       "      <td>NaN</td>\n",
       "      <td>NaN</td>\n",
       "      <td>NaN</td>\n",
       "      <td>NaN</td>\n",
       "      <td>76.29</td>\n",
       "      <td>NaN</td>\n",
       "    </tr>\n",
       "    <tr>\n",
       "      <td>3</td>\n",
       "      <td>ABW</td>\n",
       "      <td>North America</td>\n",
       "      <td>Aruba</td>\n",
       "      <td>2020-03-21</td>\n",
       "      <td>NaN</td>\n",
       "      <td>NaN</td>\n",
       "      <td>0.286</td>\n",
       "      <td>NaN</td>\n",
       "      <td>NaN</td>\n",
       "      <td>0.000</td>\n",
       "      <td>...</td>\n",
       "      <td>35973.781</td>\n",
       "      <td>NaN</td>\n",
       "      <td>NaN</td>\n",
       "      <td>11.62</td>\n",
       "      <td>NaN</td>\n",
       "      <td>NaN</td>\n",
       "      <td>NaN</td>\n",
       "      <td>NaN</td>\n",
       "      <td>76.29</td>\n",
       "      <td>NaN</td>\n",
       "    </tr>\n",
       "    <tr>\n",
       "      <td>4</td>\n",
       "      <td>ABW</td>\n",
       "      <td>North America</td>\n",
       "      <td>Aruba</td>\n",
       "      <td>2020-03-22</td>\n",
       "      <td>NaN</td>\n",
       "      <td>NaN</td>\n",
       "      <td>0.286</td>\n",
       "      <td>NaN</td>\n",
       "      <td>NaN</td>\n",
       "      <td>0.000</td>\n",
       "      <td>...</td>\n",
       "      <td>35973.781</td>\n",
       "      <td>NaN</td>\n",
       "      <td>NaN</td>\n",
       "      <td>11.62</td>\n",
       "      <td>NaN</td>\n",
       "      <td>NaN</td>\n",
       "      <td>NaN</td>\n",
       "      <td>NaN</td>\n",
       "      <td>76.29</td>\n",
       "      <td>NaN</td>\n",
       "    </tr>\n",
       "    <tr>\n",
       "      <td>...</td>\n",
       "      <td>...</td>\n",
       "      <td>...</td>\n",
       "      <td>...</td>\n",
       "      <td>...</td>\n",
       "      <td>...</td>\n",
       "      <td>...</td>\n",
       "      <td>...</td>\n",
       "      <td>...</td>\n",
       "      <td>...</td>\n",
       "      <td>...</td>\n",
       "      <td>...</td>\n",
       "      <td>...</td>\n",
       "      <td>...</td>\n",
       "      <td>...</td>\n",
       "      <td>...</td>\n",
       "      <td>...</td>\n",
       "      <td>...</td>\n",
       "      <td>...</td>\n",
       "      <td>...</td>\n",
       "      <td>...</td>\n",
       "      <td>...</td>\n",
       "    </tr>\n",
       "    <tr>\n",
       "      <td>43886</td>\n",
       "      <td>OWID_WRL</td>\n",
       "      <td>NaN</td>\n",
       "      <td>World</td>\n",
       "      <td>2020-09-12</td>\n",
       "      <td>28519191.0</td>\n",
       "      <td>305101.0</td>\n",
       "      <td>268166.000</td>\n",
       "      <td>916012.0</td>\n",
       "      <td>5881.0</td>\n",
       "      <td>5863.143</td>\n",
       "      <td>...</td>\n",
       "      <td>15469.207</td>\n",
       "      <td>10.0</td>\n",
       "      <td>233.07</td>\n",
       "      <td>8.51</td>\n",
       "      <td>6.434</td>\n",
       "      <td>34.635</td>\n",
       "      <td>60.13</td>\n",
       "      <td>2.705</td>\n",
       "      <td>72.58</td>\n",
       "      <td>NaN</td>\n",
       "    </tr>\n",
       "    <tr>\n",
       "      <td>43887</td>\n",
       "      <td>OWID_WRL</td>\n",
       "      <td>NaN</td>\n",
       "      <td>World</td>\n",
       "      <td>2020-09-13</td>\n",
       "      <td>28806290.0</td>\n",
       "      <td>287099.0</td>\n",
       "      <td>269207.286</td>\n",
       "      <td>920939.0</td>\n",
       "      <td>4927.0</td>\n",
       "      <td>5800.857</td>\n",
       "      <td>...</td>\n",
       "      <td>15469.207</td>\n",
       "      <td>10.0</td>\n",
       "      <td>233.07</td>\n",
       "      <td>8.51</td>\n",
       "      <td>6.434</td>\n",
       "      <td>34.635</td>\n",
       "      <td>60.13</td>\n",
       "      <td>2.705</td>\n",
       "      <td>72.58</td>\n",
       "      <td>NaN</td>\n",
       "    </tr>\n",
       "    <tr>\n",
       "      <td>43888</td>\n",
       "      <td>OWID_WRL</td>\n",
       "      <td>NaN</td>\n",
       "      <td>World</td>\n",
       "      <td>2020-09-14</td>\n",
       "      <td>29078936.0</td>\n",
       "      <td>272646.0</td>\n",
       "      <td>272621.143</td>\n",
       "      <td>924817.0</td>\n",
       "      <td>3878.0</td>\n",
       "      <td>5064.857</td>\n",
       "      <td>...</td>\n",
       "      <td>15469.207</td>\n",
       "      <td>10.0</td>\n",
       "      <td>233.07</td>\n",
       "      <td>8.51</td>\n",
       "      <td>6.434</td>\n",
       "      <td>34.635</td>\n",
       "      <td>60.13</td>\n",
       "      <td>2.705</td>\n",
       "      <td>72.58</td>\n",
       "      <td>NaN</td>\n",
       "    </tr>\n",
       "    <tr>\n",
       "      <td>43889</td>\n",
       "      <td>OWID_WRL</td>\n",
       "      <td>NaN</td>\n",
       "      <td>World</td>\n",
       "      <td>2020-09-15</td>\n",
       "      <td>29320128.0</td>\n",
       "      <td>241192.0</td>\n",
       "      <td>277613.857</td>\n",
       "      <td>929050.0</td>\n",
       "      <td>4233.0</td>\n",
       "      <td>5123.571</td>\n",
       "      <td>...</td>\n",
       "      <td>15469.207</td>\n",
       "      <td>10.0</td>\n",
       "      <td>233.07</td>\n",
       "      <td>8.51</td>\n",
       "      <td>6.434</td>\n",
       "      <td>34.635</td>\n",
       "      <td>60.13</td>\n",
       "      <td>2.705</td>\n",
       "      <td>72.58</td>\n",
       "      <td>NaN</td>\n",
       "    </tr>\n",
       "    <tr>\n",
       "      <td>43890</td>\n",
       "      <td>OWID_WRL</td>\n",
       "      <td>NaN</td>\n",
       "      <td>World</td>\n",
       "      <td>2020-09-16</td>\n",
       "      <td>29611395.0</td>\n",
       "      <td>291267.0</td>\n",
       "      <td>284280.714</td>\n",
       "      <td>935767.0</td>\n",
       "      <td>6717.0</td>\n",
       "      <td>5374.000</td>\n",
       "      <td>...</td>\n",
       "      <td>15469.207</td>\n",
       "      <td>10.0</td>\n",
       "      <td>233.07</td>\n",
       "      <td>8.51</td>\n",
       "      <td>6.434</td>\n",
       "      <td>34.635</td>\n",
       "      <td>60.13</td>\n",
       "      <td>2.705</td>\n",
       "      <td>72.58</td>\n",
       "      <td>NaN</td>\n",
       "    </tr>\n",
       "  </tbody>\n",
       "</table>\n",
       "<p>43891 rows × 41 columns</p>\n",
       "</div>"
      ],
      "text/plain": [
       "       iso_code      continent location        date  total_cases  new_cases  \\\n",
       "0           ABW  North America    Aruba  2020-03-13          2.0        2.0   \n",
       "1           ABW  North America    Aruba  2020-03-19          NaN        NaN   \n",
       "2           ABW  North America    Aruba  2020-03-20          4.0        2.0   \n",
       "3           ABW  North America    Aruba  2020-03-21          NaN        NaN   \n",
       "4           ABW  North America    Aruba  2020-03-22          NaN        NaN   \n",
       "...         ...            ...      ...         ...          ...        ...   \n",
       "43886  OWID_WRL            NaN    World  2020-09-12   28519191.0   305101.0   \n",
       "43887  OWID_WRL            NaN    World  2020-09-13   28806290.0   287099.0   \n",
       "43888  OWID_WRL            NaN    World  2020-09-14   29078936.0   272646.0   \n",
       "43889  OWID_WRL            NaN    World  2020-09-15   29320128.0   241192.0   \n",
       "43890  OWID_WRL            NaN    World  2020-09-16   29611395.0   291267.0   \n",
       "\n",
       "       new_cases_smoothed  total_deaths  new_deaths  new_deaths_smoothed  ...  \\\n",
       "0                     NaN           0.0         0.0                  NaN  ...   \n",
       "1                   0.286           NaN         NaN                0.000  ...   \n",
       "2                   0.286           0.0         0.0                0.000  ...   \n",
       "3                   0.286           NaN         NaN                0.000  ...   \n",
       "4                   0.286           NaN         NaN                0.000  ...   \n",
       "...                   ...           ...         ...                  ...  ...   \n",
       "43886          268166.000      916012.0      5881.0             5863.143  ...   \n",
       "43887          269207.286      920939.0      4927.0             5800.857  ...   \n",
       "43888          272621.143      924817.0      3878.0             5064.857  ...   \n",
       "43889          277613.857      929050.0      4233.0             5123.571  ...   \n",
       "43890          284280.714      935767.0      6717.0             5374.000  ...   \n",
       "\n",
       "       gdp_per_capita  extreme_poverty  cardiovasc_death_rate  \\\n",
       "0           35973.781              NaN                    NaN   \n",
       "1           35973.781              NaN                    NaN   \n",
       "2           35973.781              NaN                    NaN   \n",
       "3           35973.781              NaN                    NaN   \n",
       "4           35973.781              NaN                    NaN   \n",
       "...               ...              ...                    ...   \n",
       "43886       15469.207             10.0                 233.07   \n",
       "43887       15469.207             10.0                 233.07   \n",
       "43888       15469.207             10.0                 233.07   \n",
       "43889       15469.207             10.0                 233.07   \n",
       "43890       15469.207             10.0                 233.07   \n",
       "\n",
       "       diabetes_prevalence  female_smokers  male_smokers  \\\n",
       "0                    11.62             NaN           NaN   \n",
       "1                    11.62             NaN           NaN   \n",
       "2                    11.62             NaN           NaN   \n",
       "3                    11.62             NaN           NaN   \n",
       "4                    11.62             NaN           NaN   \n",
       "...                    ...             ...           ...   \n",
       "43886                 8.51           6.434        34.635   \n",
       "43887                 8.51           6.434        34.635   \n",
       "43888                 8.51           6.434        34.635   \n",
       "43889                 8.51           6.434        34.635   \n",
       "43890                 8.51           6.434        34.635   \n",
       "\n",
       "       handwashing_facilities  hospital_beds_per_thousand  life_expectancy  \\\n",
       "0                         NaN                         NaN            76.29   \n",
       "1                         NaN                         NaN            76.29   \n",
       "2                         NaN                         NaN            76.29   \n",
       "3                         NaN                         NaN            76.29   \n",
       "4                         NaN                         NaN            76.29   \n",
       "...                       ...                         ...              ...   \n",
       "43886                   60.13                       2.705            72.58   \n",
       "43887                   60.13                       2.705            72.58   \n",
       "43888                   60.13                       2.705            72.58   \n",
       "43889                   60.13                       2.705            72.58   \n",
       "43890                   60.13                       2.705            72.58   \n",
       "\n",
       "       human_development_index  \n",
       "0                          NaN  \n",
       "1                          NaN  \n",
       "2                          NaN  \n",
       "3                          NaN  \n",
       "4                          NaN  \n",
       "...                        ...  \n",
       "43886                      NaN  \n",
       "43887                      NaN  \n",
       "43888                      NaN  \n",
       "43889                      NaN  \n",
       "43890                      NaN  \n",
       "\n",
       "[43891 rows x 41 columns]"
      ]
     },
     "execution_count": 8,
     "metadata": {},
     "output_type": "execute_result"
    }
   ],
   "source": [
    "covid_df = covid_df.loc[covid_df[\"location\"] != \"International\"]\n",
    "covid_df"
   ]
  },
  {
   "cell_type": "code",
   "execution_count": 9,
   "metadata": {},
   "outputs": [],
   "source": [
    "def generate_plot(var1, var2, location = \"World\", time = [\"2019-12-31\"]):\n",
    "    df = covid_df\n",
    "    print(var1 + \" vs \"  + var2 + \" between \" + time[0] + \" and \" + time[1])\n",
    "    if len(time) == 2:\n",
    "        df = df.loc[df[\"date\"] >= time[0]].loc[df[\"date\"] <= time[1]]\n",
    "        \n",
    "    \n",
    "        df = df.loc[df[\"location\"] == location]\n",
    "        if (var1 == \"Time\"):\n",
    "            var1 = \"date\"\n",
    "        plt.scatter(df[var1], df[var2])\n",
    "        if (len(df[var2]) > 20):\n",
    "            plt.xticks(rotation = 90)\n",
    "    \n",
    "    else:\n",
    "        print(var1 + \" vs \" + var2 + \" on \" + time[0])\n",
    "        df = df.loc[df[\"date\"] == time[0]]\n",
    "        plt.scatter(df[var1], df[var2])\n",
    "        if (len(df[var2] > 20)):\n",
    "            plt.xticks(rotation = 90)"
   ]
  },
  {
   "cell_type": "code",
   "execution_count": 10,
   "metadata": {},
   "outputs": [
    {
     "data": {
      "application/vnd.jupyter.widget-view+json": {
       "model_id": "e0d997b677364136a330e7af42344dee",
       "version_major": 2,
       "version_minor": 0
      },
      "text/plain": [
       "Dropdown(description='Choose Independent Variable', options=('Deaths', 'Cases', 'Tests', 'Population', 'Misc')…"
      ]
     },
     "metadata": {},
     "output_type": "display_data"
    }
   ],
   "source": [
    "dropdown_var1_type = widgets.Dropdown(description = \"Choose Independent Variable\" , options = [\"Deaths\", \"Cases\", \"Tests\", \"Population\", \"Misc\"])\n",
    "def on_change(change):\n",
    "    if (change.new == \"Deaths\"):\n",
    "        opt = death_data\n",
    "    elif (change.new == \"Cases\"):\n",
    "        opt = cases_data\n",
    "    elif (change.new == \"Tests\"):\n",
    "        opt = tests_data\n",
    "    elif (change.new == \"Population\"):\n",
    "        opt = population_data\n",
    "    elif (change.new == \"Misc\"):\n",
    "        opt = population_data\n",
    "    dropdown_var1 = widgets.Dropdown(description = change.new , options = opt)\n",
    "    dropdown_var1.observe(on_change, names = \"value\")\n",
    "    display(dropdown_var1)\n",
    "dropdown_var1_type.observe(on_change, names = \"value\")\n",
    "display(dropdown_var1_type)"
   ]
  },
  {
   "cell_type": "code",
   "execution_count": 11,
   "metadata": {},
   "outputs": [],
   "source": [
    "x = widgets.Dropdown(options = [\"1\", \"2\", \"3\"], value = \"2\", description = \"Number\", disabled = False)\n"
   ]
  },
  {
   "cell_type": "code",
   "execution_count": null,
   "metadata": {},
   "outputs": [],
   "source": []
  },
  {
   "cell_type": "code",
   "execution_count": 12,
   "metadata": {},
   "outputs": [
    {
     "name": "stdout",
     "output_type": "stream",
     "text": [
      "Enter type of variable 1 out of Deaths, Cases, Tests, Population or Other: Deaths\n",
      "\n",
      "new_deaths, new_deaths_per_million, total_deaths, total_deaths_per_million, \n",
      "Choose and enter variable 1 from the above list: new_deaths\n",
      "Enter type of variable 2 out of Time, Deaths, Cases, Tests, Population or Other: Time\n",
      "Enter Starting Date in YYYY-MM-DD: 2020-03-13\n",
      "Enter ending date in YYYY-MM-DD: 2020-09-15\n",
      "Select a country or 'World': World\n",
      "Time vs new_deaths between 2020-03-13 and 2020-09-15\n"
     ]
    },
    {
     "data": {
      "image/png": "[encoded data removed]",
      "text/plain": [
       "<Figure size 432x288 with 1 Axes>"
      ]
     },
     "metadata": {
      "needs_background": "light"
     },
     "output_type": "display_data"
    }
   ],
   "source": [
    "var1_type = input(\"Enter type of variable 1 out of Deaths, Cases, Tests, Population or Other: \")\n",
    "if var1_type not in variables_dict.keys():\n",
    "    var1_type = \"Misc\"\n",
    "print(\"\")\n",
    "for i in variables_dict[var1_type]:\n",
    "    print(i, end = \", \")\n",
    "print(\"\")\n",
    "var1 = input(\"Choose and enter variable 1 from the above list: \")\n",
    "\n",
    "if var1_type in [\"Deaths\", \"Cases\", \"Tests\"]:\n",
    "    var2_type = input(\"Enter type of variable 2 out of Time, Deaths, Cases, Tests, Population or Other: \")\n",
    "    \n",
    "    if var2_type == \"Time\":\n",
    "        date1 = input(\"Enter Starting Date in YYYY-MM-DD: \")\n",
    "        date2 = input(\"Enter ending date in YYYY-MM-DD: \")\n",
    "        location  = input(\"Select a country or 'World': \")\n",
    "        generate_plot(\"Time\", var1, location, [date1, date2])\n",
    "        \n",
    "    elif var2_type in [\"Deaths\", \"Cases\", \"Tests\"]:\n",
    "        for i in variables_dict[var1_type]:\n",
    "            if var1 is not i:\n",
    "                print(i, end = \", \")\n",
    "        var2 = input(\"Choose and enter variable 2 from the above list: \")\n",
    "        date1 = input(\"Enter Starting Date in YYYY-MM-DD: \")\n",
    "        date2 = input(\"Enter Ending Date in YYYY-MM-DD: \")\n",
    "        location  = input(\"Select a country or 'World': \")\n",
    "        generate_plot(var2, var1, location, [date1, date2])\n",
    "    \n",
    "    else:\n",
    "        for i in variables_dict[var2_type]:\n",
    "            print(i, end = \", \")\n",
    "        var2 = input(\"Choose and enter variable 2 from the above list: \")\n",
    "        date = input(\"Enter Date in YYYY-MM-DD: \")\n",
    "        generate_plot(var2, var1, \"World\", [date])\n",
    "else:\n",
    "    var2_type = input(\"Enter type of variable 2 out of Deaths, Cases, Tests, Population or Other: \")\n",
    "    if var2_type == \"Other\":\n",
    "        var2_type = \"Misc\"\n",
    "    for i in variables_dict[var2_type]:\n",
    "        print(i, end = \", \")\n",
    "    if var2_type in [\"Deaths\", \"Cases\", \"Tests\"]:\n",
    "        var2 = input(\"Choose and enter variable 2 from the above list: \")\n",
    "        date = input(\"Enter date in YYYY-MM-DD: \")\n",
    "        generate_plot(var1, var2, \"World\", [date])\n",
    "    else:\n",
    "        var2 = input(\"Choose and enter variable 2 from the above list: \")\n",
    "        date = input(\"Enter date in YYYY-MM-DD: \")\n",
    "        \n",
    "        \n",
    "        \n",
    "    \n",
    "    \n",
    "        \n"
   ]
  },
  {
   "cell_type": "code",
   "execution_count": 13,
   "metadata": {},
   "outputs": [],
   "source": [
    "x = widgets.Dropdown(options = [\"1\", \"2\", \"3\"], value = \"2\", description = \"Number\", disabled = False)"
   ]
  },
  {
   "cell_type": "code",
   "execution_count": 14,
   "metadata": {},
   "outputs": [
    {
     "data": {
      "application/vnd.jupyter.widget-view+json": {
       "model_id": "fe4a4d02ed4f4a4e8edf312034fbbb96",
       "version_major": 2,
       "version_minor": 0
      },
      "text/plain": [
       "Dropdown(description='Number', index=1, options=('1', '2', '3'), value='2')"
      ]
     },
     "metadata": {},
     "output_type": "display_data"
    }
   ],
   "source": [
    "display(x)"
   ]
  },
  {
   "cell_type": "code",
   "execution_count": 15,
   "metadata": {},
   "outputs": [
    {
     "name": "stdout",
     "output_type": "stream",
     "text": [
      "Choose type of variable 1\n"
     ]
    },
    {
     "data": {
      "application/vnd.jupyter.widget-view+json": {
       "model_id": "677ca3778ae6431a8f18ebd833b97453",
       "version_major": 2,
       "version_minor": 0
      },
      "text/plain": [
       "Dropdown(description='Choose', options=('Deaths', 'Cases', 'Tests', 'Population', 'Misc'), value='Deaths')"
      ]
     },
     "metadata": {},
     "output_type": "display_data"
    }
   ],
   "source": [
    "print(\"Choose type of variable 1\")\n",
    "var1_type = \"Deaths\"\n",
    "drop_down = widgets.Dropdown(options = [\"Deaths\", \"Cases\", \"Tests\", \"Population\", \"Misc\"], description = \"Choose\", disabled = False)\n",
    "output = widgets.Output()\n",
    "def drop_handler(change):\n",
    "    global var1_type\n",
    "    output.clear_output()\n",
    "    with output:\n",
    "        var1_type = change.new\n",
    "        var1 = \"total_deaths\"\n",
    "        drop_down2 = widgets.Dropdown(options = variables_dict[var1_type], description = \"Choose\", disabled = False)\n",
    "        def drop_handler2(change):\n",
    "            global var1\n",
    "            var1 = change.new\n",
    "        drop_down2.observe(drop_handler2, names = \"value\")\n",
    "        display(drop_down2)\n",
    "drop_down.observe(drop_handler, names = \"value\")\n",
    "display(drop_down)\n",
    "\n",
    "\n"
   ]
  },
  {
   "cell_type": "code",
   "execution_count": 24,
   "metadata": {},
   "outputs": [
    {
     "data": {
      "application/vnd.jupyter.widget-view+json": {
       "model_id": "b85ec05344b547baa2f4c94936087c51",
       "version_major": 2,
       "version_minor": 0
      },
      "text/plain": [
       "Output(outputs=({'output_type': 'display_data', 'data': {'text/plain': \"Dropdown(description='Choose', options…"
      ]
     },
     "metadata": {},
     "output_type": "display_data"
    }
   ],
   "source": [
    "display(output)\n"
   ]
  },
  {
   "cell_type": "code",
   "execution_count": 25,
   "metadata": {},
   "outputs": [
    {
     "data": {
      "text/plain": [
       "'Cases'"
      ]
     },
     "execution_count": 25,
     "metadata": {},
     "output_type": "execute_result"
    }
   ],
   "source": [
    "var1_type"
   ]
  },
  {
   "cell_type": "code",
   "execution_count": 26,
   "metadata": {},
   "outputs": [
    {
     "data": {
      "text/plain": [
       "['new_cases',\n",
       " 'new_cases_per_million',\n",
       " 'total_cases',\n",
       " 'total_cases_per_million']"
      ]
     },
     "execution_count": 26,
     "metadata": {},
     "output_type": "execute_result"
    }
   ],
   "source": [
    "variables_dict[var1_type]"
   ]
  },
  {
   "cell_type": "code",
   "execution_count": 27,
   "metadata": {},
   "outputs": [
    {
     "data": {
      "application/vnd.jupyter.widget-view+json": {
       "model_id": "16c568b9126a4ed78952082cc767d7e3",
       "version_major": 2,
       "version_minor": 0
      },
      "text/plain": [
       "Dropdown(description='Var 1 Type', options=('Deaths', 'Cases', 'Tests', 'Population', 'Misc'), value='Deaths')"
      ]
     },
     "metadata": {},
     "output_type": "display_data"
    },
    {
     "data": {
      "application/vnd.jupyter.widget-view+json": {
       "model_id": "ac3addeaffc14044bb99b14fbf6f6063",
       "version_major": 2,
       "version_minor": 0
      },
      "text/plain": [
       "Output()"
      ]
     },
     "metadata": {},
     "output_type": "display_data"
    },
    {
     "data": {
      "application/vnd.jupyter.widget-view+json": {
       "model_id": "3ec5fb4a276e4fc9a5fe86263f81400f",
       "version_major": 2,
       "version_minor": 0
      },
      "text/plain": [
       "Output()"
      ]
     },
     "metadata": {},
     "output_type": "display_data"
    },
    {
     "data": {
      "application/vnd.jupyter.widget-view+json": {
       "model_id": "e9c6845fee614aedaf8a58c17161ed1d",
       "version_major": 2,
       "version_minor": 0
      },
      "text/plain": [
       "Button(description='Confirm Variables', style=ButtonStyle())"
      ]
     },
     "metadata": {},
     "output_type": "display_data"
    }
   ],
   "source": [
    "var1_type_drop = widgets.Dropdown(options = [\"Deaths\", \"Cases\", \"Tests\", \"Population\", \"Misc\"], description = \"Var 1 Type\")\n",
    "var1_type = \"\"\n",
    "var1 = \"\"\n",
    "var2_type = \"\"\n",
    "var2 = \"\"\n",
    "\n",
    "    \n",
    "output = widgets.Output()\n",
    "output2 = widgets.Output()\n",
    "def var1type_drop_eventhandler(change):\n",
    "    output.clear_output()\n",
    "    with output:\n",
    "        global var1_type\n",
    "        var1_type = var1_type_drop.value\n",
    "        options_list = variables_dict[var1_type]\n",
    "\n",
    "        var1_drop = widgets.Dropdown(options = options_list, description = \"Variable 1\")\n",
    "        def var1_drop_eventhandler(change):\n",
    "            with output2:\n",
    "                global var1\n",
    "                global var2\n",
    "                var1 = var1_drop.value\n",
    "                print(var1)\n",
    "                if (var1 == var2):\n",
    "                    print(\"Invalid choice, please select different variables.\")\n",
    "                \n",
    "        var1_drop.observe(var1_drop_eventhandler, names = \"value\")\n",
    "        display(var1_drop)\n",
    "                \n",
    "        var2_type_drop = widgets.Dropdown(options = [\"Deaths\", \"Cases\", \"Tests\", \"Population\", \"Misc\", \"Time\"], description = \"Var 2 Type\")\n",
    "        def var2type_drop_eventhandler(change):\n",
    "            output2.clear_output()\n",
    "            with output2:\n",
    "                global var2_type\n",
    "                var2_type = var2_type_drop.value\n",
    "                \n",
    "                \n",
    "                if var2_type == \"Time\":\n",
    "                    options_list2 = [\"Custom Range\", \"All-Time\", \"\"]\n",
    "                else:\n",
    "                    options_list2 = [i for i in variables_dict[var2_type] if i is not var1]\n",
    "                var2_drop = widgets.Dropdown(options = options_list2, description = \"Variable 2\")\n",
    "                def var2_drop_eventhandler(change):\n",
    "                    with output2:\n",
    "                        global var2\n",
    "                        var2 = var2_drop.value\n",
    "                        print(var2)\n",
    "                var2_drop.observe(var2_drop_eventhandler, names = \"value\")\n",
    "                display(var2_drop)\n",
    "        var2_type_drop.observe(var2type_drop_eventhandler, names = \"value\")\n",
    "        display(var2_type_drop)\n",
    "                \n",
    "\n",
    "\n",
    "    \n",
    "var1_type_drop.observe(var1type_drop_eventhandler, names = \"value\")\n",
    "display(var1_type_drop)\n",
    "\n",
    "\n",
    "display(output)\n",
    "display(output2)\n",
    "\n",
    "confirm = widgets.Button(description = \"Confirm Variables\")\n",
    "display(confirm)\n",
    "\n",
    "locations = covid_df[\"location\"].unique()\n",
    "dates = covid_df[\"date\"].unique()\n",
    "date1 = \"\"\n",
    "date2 = \"\"\n",
    "location = \"\"\n",
    "out3 = widgets.Output()\n",
    "def confirm_eventhandler(obj):\n",
    "    out3.clear_output()\n",
    "    with out3:\n",
    "        if var1 == var2:\n",
    "            print(\"Please choose different variables, variable 1 and 2 cannot be the same.\")\n",
    "        elif var1_type in [\"Deaths\", \"Cases\", \"Tests\"]:\n",
    "            if var2_type == \"Time\":\n",
    "                if var2 == \"Custom Range\":\n",
    "                    date1_drop = widgets.Dropdown(options = dates, description = \"Start Date\")\n",
    "                    def date1_drop_eventhandler(change):\n",
    "                        global date1\n",
    "                        date1 = change.new\n",
    "                        date2_list = covid_df.loc[covid_df[\"date\"] > date1][\"date\"].unique()\n",
    "                        date2_drop = widgets.Dropdown(options = date2_list, description = \"End Date\")\n",
    "                        def date2_drop_eventhandler(change):\n",
    "                            global date2\n",
    "                            date2 = change.new\n",
    "                        date2_drop.observe(date2_drop_eventhandler, names = \"value\")\n",
    "                        display(date2_drop)\n",
    "                    date1_drop.observe(date1_drop_eventhandler, names = \"value\")\n",
    "                    display(date1_drop)\n",
    "                    location_drop = widgets.Dropdown(options = locations, description = \"Location\")\n",
    "                    def location_drop_eventhandler(change):\n",
    "                        global location\n",
    "                        location = change.new\n",
    "                    location_drop.observe(location_drop_eventhandler, names = \"value\")\n",
    "                    display(location_drop)\n",
    "confirm.on_click(confirm_eventhandler)\n",
    "            \n",
    "                \n",
    "\n",
    "            \n"
   ]
  },
  {
   "cell_type": "code",
   "execution_count": 20,
   "metadata": {},
   "outputs": [
    {
     "data": {
      "text/plain": [
       "''"
      ]
     },
     "execution_count": 20,
     "metadata": {},
     "output_type": "execute_result"
    }
   ],
   "source": [
    "var1"
   ]
  },
  {
   "cell_type": "code",
   "execution_count": 21,
   "metadata": {},
   "outputs": [
    {
     "name": "stdout",
     "output_type": "stream",
     "text": [
      "\n"
     ]
    }
   ],
   "source": [
    "print(date1)"
   ]
  },
  {
   "cell_type": "code",
   "execution_count": null,
   "metadata": {},
   "outputs": [],
   "source": []
  },
  {
   "cell_type": "code",
   "execution_count": 22,
   "metadata": {},
   "outputs": [
    {
     "data": {
      "text/plain": [
       "['new_deaths', 'total_deaths', 'total_deaths_per_million']"
      ]
     },
     "execution_count": 22,
     "metadata": {},
     "output_type": "execute_result"
    }
   ],
   "source": [
    "x = list(variables_dict[\"Deaths\"])\n",
    "x.remove(\"new_deaths_per_million\")\n",
    "x"
   ]
  },
  {
   "cell_type": "code",
   "execution_count": 23,
   "metadata": {},
   "outputs": [
    {
     "data": {
      "text/plain": [
       "['new_deaths',\n",
       " 'new_deaths_per_million',\n",
       " 'total_deaths',\n",
       " 'total_deaths_per_million']"
      ]
     },
     "execution_count": 23,
     "metadata": {},
     "output_type": "execute_result"
    }
   ],
   "source": [
    "variables_dict[\"Deaths\"]"
   ]
  },
  {
   "cell_type": "code",
   "execution_count": null,
   "metadata": {},
   "outputs": [],
   "source": []
  }
 ],
 "metadata": {
  "kernelspec": {
   "display_name": "Python 3",
   "language": "python",
   "name": "python3"
  },
  "language_info": {
   "codemirror_mode": {
    "name": "ipython",
    "version": 3
   },
   "file_extension": ".py",
   "mimetype": "text/x-python",
   "name": "python",
   "nbconvert_exporter": "python",
   "pygments_lexer": "ipython3",
   "version": "3.7.4"
  }
 },
 "nbformat": 4,
 "nbformat_minor": 2
}
