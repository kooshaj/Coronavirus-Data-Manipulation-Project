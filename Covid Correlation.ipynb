{
 "cells": [
  {
   "cell_type": "code",
   "execution_count": 43,
   "metadata": {},
   "outputs": [],
   "source": [
    "import pandas as pd\n",
    "import matplotlib.pyplot as plt\n",
    "from IPython.display import display\n",
    "import ipywidgets as widgets"
   ]
  },
  {
   "cell_type": "code",
   "execution_count": 3,
   "metadata": {},
   "outputs": [],
   "source": [
    "covid_df = pd.read_csv(\"owid-covid-data.csv\")"
   ]
  },
  {
   "cell_type": "code",
   "execution_count": 4,
   "metadata": {},
   "outputs": [
    {
     "data": {
      "text/plain": [
       "Index(['iso_code', 'continent', 'location', 'date', 'total_cases', 'new_cases',\n",
       "       'new_cases_smoothed', 'total_deaths', 'new_deaths',\n",
       "       'new_deaths_smoothed', 'total_cases_per_million',\n",
       "       'new_cases_per_million', 'new_cases_smoothed_per_million',\n",
       "       'total_deaths_per_million', 'new_deaths_per_million',\n",
       "       'new_deaths_smoothed_per_million', 'new_tests', 'total_tests',\n",
       "       'total_tests_per_thousand', 'new_tests_per_thousand',\n",
       "       'new_tests_smoothed', 'new_tests_smoothed_per_thousand',\n",
       "       'tests_per_case', 'positive_rate', 'tests_units', 'stringency_index',\n",
       "       'population', 'population_density', 'median_age', 'aged_65_older',\n",
       "       'aged_70_older', 'gdp_per_capita', 'extreme_poverty',\n",
       "       'cardiovasc_death_rate', 'diabetes_prevalence', 'female_smokers',\n",
       "       'male_smokers', 'handwashing_facilities', 'hospital_beds_per_thousand',\n",
       "       'life_expectancy', 'human_development_index'],\n",
       "      dtype='object')"
      ]
     },
     "execution_count": 4,
     "metadata": {},
     "output_type": "execute_result"
    }
   ],
   "source": [
    "covid_df.columns"
   ]
  },
  {
   "cell_type": "code",
   "execution_count": 267,
   "metadata": {},
   "outputs": [],
   "source": [
    "death_data = [\"new_deaths\", \"new_deaths_per_million\", \"total_deaths\", \"total_deaths_per_million\"] #add death rate(and cadiovascular deaths?)\n",
    "cases_data = [\"new_cases\", \"new_cases_per_million\", \"total_cases\", \"total_cases_per_million\"]\n",
    "test_data = [\"new_tests\", \"total_tests\", \"total_tests_per_thousand\", \"new_tests_per_thousand\", \"tests_per_case\", \"positive_rate\"] #tests_units(?)\n",
    "population_data = [\"population\", \"population_density\", \"median_age\", \"aged_65_older\", \"aged_70_older\", \"gdp_per_capita\", \"extreme_poverty\"]\n",
    "misc_data = [\"diabetes_prevelance\", \"female_smokers\", \"male_smokers\", \"handwashing_facilities\", \"hospital_beds_per_thousand\", \"life_expectancy\", \"human_development_index\", \"stringency_index\"]\n",
    "\n",
    "\n"
   ]
  },
  {
   "cell_type": "code",
   "execution_count": 268,
   "metadata": {},
   "outputs": [
    {
     "data": {
      "text/plain": [
       "['new_deaths',\n",
       " 'new_deaths_per_million',\n",
       " 'total_deaths',\n",
       " 'total_deaths_per_million']"
      ]
     },
     "execution_count": 268,
     "metadata": {},
     "output_type": "execute_result"
    }
   ],
   "source": [
    "variables_dict = {\"Deaths\": death_data, \"Cases\": cases_data, \"Tests\": test_data, \"Population\": population_data, \"Misc\" : misc_data}\n",
    "\n",
    "list(variables_dict.values())[0]"
   ]
  },
  {
   "cell_type": "code",
   "execution_count": 270,
   "metadata": {},
   "outputs": [
    {
     "data": {
      "text/html": [
       "<div>\n",
       "<style scoped>\n",
       "    .dataframe tbody tr th:only-of-type {\n",
       "        vertical-align: middle;\n",
       "    }\n",
       "\n",
       "    .dataframe tbody tr th {\n",
       "        vertical-align: top;\n",
       "    }\n",
       "\n",
       "    .dataframe thead th {\n",
       "        text-align: right;\n",
       "    }\n",
       "</style>\n",
       "<table border=\"1\" class=\"dataframe\">\n",
       "  <thead>\n",
       "    <tr style=\"text-align: right;\">\n",
       "      <th></th>\n",
       "      <th>iso_code</th>\n",
       "      <th>continent</th>\n",
       "      <th>location</th>\n",
       "      <th>date</th>\n",
       "      <th>total_cases</th>\n",
       "      <th>new_cases</th>\n",
       "      <th>new_cases_smoothed</th>\n",
       "      <th>total_deaths</th>\n",
       "      <th>new_deaths</th>\n",
       "      <th>new_deaths_smoothed</th>\n",
       "      <th>...</th>\n",
       "      <th>gdp_per_capita</th>\n",
       "      <th>extreme_poverty</th>\n",
       "      <th>cardiovasc_death_rate</th>\n",
       "      <th>diabetes_prevalence</th>\n",
       "      <th>female_smokers</th>\n",
       "      <th>male_smokers</th>\n",
       "      <th>handwashing_facilities</th>\n",
       "      <th>hospital_beds_per_thousand</th>\n",
       "      <th>life_expectancy</th>\n",
       "      <th>human_development_index</th>\n",
       "    </tr>\n",
       "  </thead>\n",
       "  <tbody>\n",
       "    <tr>\n",
       "      <td>0</td>\n",
       "      <td>AFG</td>\n",
       "      <td>Asia</td>\n",
       "      <td>Afghanistan</td>\n",
       "      <td>2019-12-31</td>\n",
       "      <td>0.0</td>\n",
       "      <td>0.0</td>\n",
       "      <td>NaN</td>\n",
       "      <td>0.0</td>\n",
       "      <td>0.0</td>\n",
       "      <td>NaN</td>\n",
       "      <td>...</td>\n",
       "      <td>1803.987</td>\n",
       "      <td>NaN</td>\n",
       "      <td>597.029</td>\n",
       "      <td>9.59</td>\n",
       "      <td>NaN</td>\n",
       "      <td>NaN</td>\n",
       "      <td>37.746</td>\n",
       "      <td>0.500</td>\n",
       "      <td>64.83</td>\n",
       "      <td>0.498</td>\n",
       "    </tr>\n",
       "    <tr>\n",
       "      <td>1</td>\n",
       "      <td>AFG</td>\n",
       "      <td>Asia</td>\n",
       "      <td>Afghanistan</td>\n",
       "      <td>2020-01-01</td>\n",
       "      <td>0.0</td>\n",
       "      <td>0.0</td>\n",
       "      <td>NaN</td>\n",
       "      <td>0.0</td>\n",
       "      <td>0.0</td>\n",
       "      <td>NaN</td>\n",
       "      <td>...</td>\n",
       "      <td>1803.987</td>\n",
       "      <td>NaN</td>\n",
       "      <td>597.029</td>\n",
       "      <td>9.59</td>\n",
       "      <td>NaN</td>\n",
       "      <td>NaN</td>\n",
       "      <td>37.746</td>\n",
       "      <td>0.500</td>\n",
       "      <td>64.83</td>\n",
       "      <td>0.498</td>\n",
       "    </tr>\n",
       "    <tr>\n",
       "      <td>2</td>\n",
       "      <td>AFG</td>\n",
       "      <td>Asia</td>\n",
       "      <td>Afghanistan</td>\n",
       "      <td>2020-01-02</td>\n",
       "      <td>0.0</td>\n",
       "      <td>0.0</td>\n",
       "      <td>NaN</td>\n",
       "      <td>0.0</td>\n",
       "      <td>0.0</td>\n",
       "      <td>NaN</td>\n",
       "      <td>...</td>\n",
       "      <td>1803.987</td>\n",
       "      <td>NaN</td>\n",
       "      <td>597.029</td>\n",
       "      <td>9.59</td>\n",
       "      <td>NaN</td>\n",
       "      <td>NaN</td>\n",
       "      <td>37.746</td>\n",
       "      <td>0.500</td>\n",
       "      <td>64.83</td>\n",
       "      <td>0.498</td>\n",
       "    </tr>\n",
       "    <tr>\n",
       "      <td>3</td>\n",
       "      <td>AFG</td>\n",
       "      <td>Asia</td>\n",
       "      <td>Afghanistan</td>\n",
       "      <td>2020-01-03</td>\n",
       "      <td>0.0</td>\n",
       "      <td>0.0</td>\n",
       "      <td>NaN</td>\n",
       "      <td>0.0</td>\n",
       "      <td>0.0</td>\n",
       "      <td>NaN</td>\n",
       "      <td>...</td>\n",
       "      <td>1803.987</td>\n",
       "      <td>NaN</td>\n",
       "      <td>597.029</td>\n",
       "      <td>9.59</td>\n",
       "      <td>NaN</td>\n",
       "      <td>NaN</td>\n",
       "      <td>37.746</td>\n",
       "      <td>0.500</td>\n",
       "      <td>64.83</td>\n",
       "      <td>0.498</td>\n",
       "    </tr>\n",
       "    <tr>\n",
       "      <td>4</td>\n",
       "      <td>AFG</td>\n",
       "      <td>Asia</td>\n",
       "      <td>Afghanistan</td>\n",
       "      <td>2020-01-04</td>\n",
       "      <td>0.0</td>\n",
       "      <td>0.0</td>\n",
       "      <td>NaN</td>\n",
       "      <td>0.0</td>\n",
       "      <td>0.0</td>\n",
       "      <td>NaN</td>\n",
       "      <td>...</td>\n",
       "      <td>1803.987</td>\n",
       "      <td>NaN</td>\n",
       "      <td>597.029</td>\n",
       "      <td>9.59</td>\n",
       "      <td>NaN</td>\n",
       "      <td>NaN</td>\n",
       "      <td>37.746</td>\n",
       "      <td>0.500</td>\n",
       "      <td>64.83</td>\n",
       "      <td>0.498</td>\n",
       "    </tr>\n",
       "    <tr>\n",
       "      <td>...</td>\n",
       "      <td>...</td>\n",
       "      <td>...</td>\n",
       "      <td>...</td>\n",
       "      <td>...</td>\n",
       "      <td>...</td>\n",
       "      <td>...</td>\n",
       "      <td>...</td>\n",
       "      <td>...</td>\n",
       "      <td>...</td>\n",
       "      <td>...</td>\n",
       "      <td>...</td>\n",
       "      <td>...</td>\n",
       "      <td>...</td>\n",
       "      <td>...</td>\n",
       "      <td>...</td>\n",
       "      <td>...</td>\n",
       "      <td>...</td>\n",
       "      <td>...</td>\n",
       "      <td>...</td>\n",
       "      <td>...</td>\n",
       "      <td>...</td>\n",
       "    </tr>\n",
       "    <tr>\n",
       "      <td>43886</td>\n",
       "      <td>OWID_WRL</td>\n",
       "      <td>NaN</td>\n",
       "      <td>World</td>\n",
       "      <td>2020-09-12</td>\n",
       "      <td>28519191.0</td>\n",
       "      <td>305101.0</td>\n",
       "      <td>268166.000</td>\n",
       "      <td>916012.0</td>\n",
       "      <td>5881.0</td>\n",
       "      <td>5863.143</td>\n",
       "      <td>...</td>\n",
       "      <td>15469.207</td>\n",
       "      <td>10.0</td>\n",
       "      <td>233.070</td>\n",
       "      <td>8.51</td>\n",
       "      <td>6.434</td>\n",
       "      <td>34.635</td>\n",
       "      <td>60.130</td>\n",
       "      <td>2.705</td>\n",
       "      <td>72.58</td>\n",
       "      <td>NaN</td>\n",
       "    </tr>\n",
       "    <tr>\n",
       "      <td>43887</td>\n",
       "      <td>OWID_WRL</td>\n",
       "      <td>NaN</td>\n",
       "      <td>World</td>\n",
       "      <td>2020-09-13</td>\n",
       "      <td>28806290.0</td>\n",
       "      <td>287099.0</td>\n",
       "      <td>269207.286</td>\n",
       "      <td>920939.0</td>\n",
       "      <td>4927.0</td>\n",
       "      <td>5800.857</td>\n",
       "      <td>...</td>\n",
       "      <td>15469.207</td>\n",
       "      <td>10.0</td>\n",
       "      <td>233.070</td>\n",
       "      <td>8.51</td>\n",
       "      <td>6.434</td>\n",
       "      <td>34.635</td>\n",
       "      <td>60.130</td>\n",
       "      <td>2.705</td>\n",
       "      <td>72.58</td>\n",
       "      <td>NaN</td>\n",
       "    </tr>\n",
       "    <tr>\n",
       "      <td>43888</td>\n",
       "      <td>OWID_WRL</td>\n",
       "      <td>NaN</td>\n",
       "      <td>World</td>\n",
       "      <td>2020-09-14</td>\n",
       "      <td>29078936.0</td>\n",
       "      <td>272646.0</td>\n",
       "      <td>272621.143</td>\n",
       "      <td>924817.0</td>\n",
       "      <td>3878.0</td>\n",
       "      <td>5064.857</td>\n",
       "      <td>...</td>\n",
       "      <td>15469.207</td>\n",
       "      <td>10.0</td>\n",
       "      <td>233.070</td>\n",
       "      <td>8.51</td>\n",
       "      <td>6.434</td>\n",
       "      <td>34.635</td>\n",
       "      <td>60.130</td>\n",
       "      <td>2.705</td>\n",
       "      <td>72.58</td>\n",
       "      <td>NaN</td>\n",
       "    </tr>\n",
       "    <tr>\n",
       "      <td>43889</td>\n",
       "      <td>OWID_WRL</td>\n",
       "      <td>NaN</td>\n",
       "      <td>World</td>\n",
       "      <td>2020-09-15</td>\n",
       "      <td>29320128.0</td>\n",
       "      <td>241192.0</td>\n",
       "      <td>277613.857</td>\n",
       "      <td>929050.0</td>\n",
       "      <td>4233.0</td>\n",
       "      <td>5123.571</td>\n",
       "      <td>...</td>\n",
       "      <td>15469.207</td>\n",
       "      <td>10.0</td>\n",
       "      <td>233.070</td>\n",
       "      <td>8.51</td>\n",
       "      <td>6.434</td>\n",
       "      <td>34.635</td>\n",
       "      <td>60.130</td>\n",
       "      <td>2.705</td>\n",
       "      <td>72.58</td>\n",
       "      <td>NaN</td>\n",
       "    </tr>\n",
       "    <tr>\n",
       "      <td>43890</td>\n",
       "      <td>OWID_WRL</td>\n",
       "      <td>NaN</td>\n",
       "      <td>World</td>\n",
       "      <td>2020-09-16</td>\n",
       "      <td>29611395.0</td>\n",
       "      <td>291267.0</td>\n",
       "      <td>284280.714</td>\n",
       "      <td>935767.0</td>\n",
       "      <td>6717.0</td>\n",
       "      <td>5374.000</td>\n",
       "      <td>...</td>\n",
       "      <td>15469.207</td>\n",
       "      <td>10.0</td>\n",
       "      <td>233.070</td>\n",
       "      <td>8.51</td>\n",
       "      <td>6.434</td>\n",
       "      <td>34.635</td>\n",
       "      <td>60.130</td>\n",
       "      <td>2.705</td>\n",
       "      <td>72.58</td>\n",
       "      <td>NaN</td>\n",
       "    </tr>\n",
       "  </tbody>\n",
       "</table>\n",
       "<p>43891 rows × 41 columns</p>\n",
       "</div>"
      ],
      "text/plain": [
       "       iso_code continent     location        date  total_cases  new_cases  \\\n",
       "0           AFG      Asia  Afghanistan  2019-12-31          0.0        0.0   \n",
       "1           AFG      Asia  Afghanistan  2020-01-01          0.0        0.0   \n",
       "2           AFG      Asia  Afghanistan  2020-01-02          0.0        0.0   \n",
       "3           AFG      Asia  Afghanistan  2020-01-03          0.0        0.0   \n",
       "4           AFG      Asia  Afghanistan  2020-01-04          0.0        0.0   \n",
       "...         ...       ...          ...         ...          ...        ...   \n",
       "43886  OWID_WRL       NaN        World  2020-09-12   28519191.0   305101.0   \n",
       "43887  OWID_WRL       NaN        World  2020-09-13   28806290.0   287099.0   \n",
       "43888  OWID_WRL       NaN        World  2020-09-14   29078936.0   272646.0   \n",
       "43889  OWID_WRL       NaN        World  2020-09-15   29320128.0   241192.0   \n",
       "43890  OWID_WRL       NaN        World  2020-09-16   29611395.0   291267.0   \n",
       "\n",
       "       new_cases_smoothed  total_deaths  new_deaths  new_deaths_smoothed  ...  \\\n",
       "0                     NaN           0.0         0.0                  NaN  ...   \n",
       "1                     NaN           0.0         0.0                  NaN  ...   \n",
       "2                     NaN           0.0         0.0                  NaN  ...   \n",
       "3                     NaN           0.0         0.0                  NaN  ...   \n",
       "4                     NaN           0.0         0.0                  NaN  ...   \n",
       "...                   ...           ...         ...                  ...  ...   \n",
       "43886          268166.000      916012.0      5881.0             5863.143  ...   \n",
       "43887          269207.286      920939.0      4927.0             5800.857  ...   \n",
       "43888          272621.143      924817.0      3878.0             5064.857  ...   \n",
       "43889          277613.857      929050.0      4233.0             5123.571  ...   \n",
       "43890          284280.714      935767.0      6717.0             5374.000  ...   \n",
       "\n",
       "       gdp_per_capita  extreme_poverty  cardiovasc_death_rate  \\\n",
       "0            1803.987              NaN                597.029   \n",
       "1            1803.987              NaN                597.029   \n",
       "2            1803.987              NaN                597.029   \n",
       "3            1803.987              NaN                597.029   \n",
       "4            1803.987              NaN                597.029   \n",
       "...               ...              ...                    ...   \n",
       "43886       15469.207             10.0                233.070   \n",
       "43887       15469.207             10.0                233.070   \n",
       "43888       15469.207             10.0                233.070   \n",
       "43889       15469.207             10.0                233.070   \n",
       "43890       15469.207             10.0                233.070   \n",
       "\n",
       "       diabetes_prevalence  female_smokers  male_smokers  \\\n",
       "0                     9.59             NaN           NaN   \n",
       "1                     9.59             NaN           NaN   \n",
       "2                     9.59             NaN           NaN   \n",
       "3                     9.59             NaN           NaN   \n",
       "4                     9.59             NaN           NaN   \n",
       "...                    ...             ...           ...   \n",
       "43886                 8.51           6.434        34.635   \n",
       "43887                 8.51           6.434        34.635   \n",
       "43888                 8.51           6.434        34.635   \n",
       "43889                 8.51           6.434        34.635   \n",
       "43890                 8.51           6.434        34.635   \n",
       "\n",
       "       handwashing_facilities  hospital_beds_per_thousand  life_expectancy  \\\n",
       "0                      37.746                       0.500            64.83   \n",
       "1                      37.746                       0.500            64.83   \n",
       "2                      37.746                       0.500            64.83   \n",
       "3                      37.746                       0.500            64.83   \n",
       "4                      37.746                       0.500            64.83   \n",
       "...                       ...                         ...              ...   \n",
       "43886                  60.130                       2.705            72.58   \n",
       "43887                  60.130                       2.705            72.58   \n",
       "43888                  60.130                       2.705            72.58   \n",
       "43889                  60.130                       2.705            72.58   \n",
       "43890                  60.130                       2.705            72.58   \n",
       "\n",
       "       human_development_index  \n",
       "0                        0.498  \n",
       "1                        0.498  \n",
       "2                        0.498  \n",
       "3                        0.498  \n",
       "4                        0.498  \n",
       "...                        ...  \n",
       "43886                      NaN  \n",
       "43887                      NaN  \n",
       "43888                      NaN  \n",
       "43889                      NaN  \n",
       "43890                      NaN  \n",
       "\n",
       "[43891 rows x 41 columns]"
      ]
     },
     "execution_count": 270,
     "metadata": {},
     "output_type": "execute_result"
    }
   ],
   "source": [
    "covid_df = covid_df.loc[covid_df[\"location\"] != \"International\"]\n",
    "covid_df"
   ]
  },
  {
   "cell_type": "code",
   "execution_count": 41,
   "metadata": {},
   "outputs": [],
   "source": [
    "def generate_plot(var1, var2, location = \"World\", time = [\"2019-12-31\"]):\n",
    "    df = covid_df\n",
    "    print(var1 + \" vs \"  + var2 + \" between \" + time[0] + \" and \" + time[1])\n",
    "    if len(time) == 2:\n",
    "        df = df.loc[df[\"date\"] >= time[0]].loc[df[\"date\"] <= time[1]]\n",
    "        \n",
    "    \n",
    "        df = df.loc[df[\"location\"] == location]\n",
    "        if (var1 == \"Time\"):\n",
    "            var1 = \"date\"\n",
    "        plt.scatter(df[var1], df[var2])\n",
    "        if (len(df[var2]) > 20):\n",
    "            plt.xticks(rotation = 90)\n",
    "    \n",
    "    else:\n",
    "        print(var1 + \" vs \" + var2 + \" on \" + time[0])\n",
    "        df = df.loc[df[\"date\"] == time[0]]\n",
    "        plt.scatter(df[var1], df[var2])\n",
    "        if (len(df[var2] > 20)):\n",
    "            plt.xticks(rotation = 90)"
   ]
  },
  {
   "cell_type": "code",
   "execution_count": 47,
   "metadata": {},
   "outputs": [
    {
     "data": {
      "application/vnd.jupyter.widget-view+json": {
       "model_id": "4330e7e35c2e417bb0ef2eb9dba5e3a6",
       "version_major": 2,
       "version_minor": 0
      },
      "text/plain": [
       "Dropdown(description='Choose Independent Variable', options=('Deaths', 'Cases', 'Tests', 'Population', 'Misc')…"
      ]
     },
     "metadata": {},
     "output_type": "display_data"
    },
    {
     "data": {
      "application/vnd.jupyter.widget-view+json": {
       "model_id": "f7dc44c668d74615ac8ceafe2df0363e",
       "version_major": 2,
       "version_minor": 0
      },
      "text/plain": [
       "Dropdown(description='Cases', options=('new_cases', 'new_cases_per_million', 'total_cases', 'new_cases_per_mil…"
      ]
     },
     "metadata": {},
     "output_type": "display_data"
    },
    {
     "ename": "UnboundLocalError",
     "evalue": "local variable 'opt' referenced before assignment",
     "output_type": "error",
     "traceback": [
      "\u001b[0;31m---------------------------------------------------------------------------\u001b[0m",
      "\u001b[0;31mUnboundLocalError\u001b[0m                         Traceback (most recent call last)",
      "\u001b[0;32m~/opt/anaconda3/lib/python3.7/site-packages/ipywidgets/widgets/widget.py\u001b[0m in \u001b[0;36m_handle_msg\u001b[0;34m(self, msg)\u001b[0m\n\u001b[1;32m    674\u001b[0m                 \u001b[0;32mif\u001b[0m \u001b[0;34m'buffer_paths'\u001b[0m \u001b[0;32min\u001b[0m \u001b[0mdata\u001b[0m\u001b[0;34m:\u001b[0m\u001b[0;34m\u001b[0m\u001b[0;34m\u001b[0m\u001b[0m\n\u001b[1;32m    675\u001b[0m                     \u001b[0m_put_buffers\u001b[0m\u001b[0;34m(\u001b[0m\u001b[0mstate\u001b[0m\u001b[0;34m,\u001b[0m \u001b[0mdata\u001b[0m\u001b[0;34m[\u001b[0m\u001b[0;34m'buffer_paths'\u001b[0m\u001b[0;34m]\u001b[0m\u001b[0;34m,\u001b[0m \u001b[0mmsg\u001b[0m\u001b[0;34m[\u001b[0m\u001b[0;34m'buffers'\u001b[0m\u001b[0;34m]\u001b[0m\u001b[0;34m)\u001b[0m\u001b[0;34m\u001b[0m\u001b[0;34m\u001b[0m\u001b[0m\n\u001b[0;32m--> 676\u001b[0;31m                 \u001b[0mself\u001b[0m\u001b[0;34m.\u001b[0m\u001b[0mset_state\u001b[0m\u001b[0;34m(\u001b[0m\u001b[0mstate\u001b[0m\u001b[0;34m)\u001b[0m\u001b[0;34m\u001b[0m\u001b[0;34m\u001b[0m\u001b[0m\n\u001b[0m\u001b[1;32m    677\u001b[0m \u001b[0;34m\u001b[0m\u001b[0m\n\u001b[1;32m    678\u001b[0m         \u001b[0;31m# Handle a state request.\u001b[0m\u001b[0;34m\u001b[0m\u001b[0;34m\u001b[0m\u001b[0;34m\u001b[0m\u001b[0m\n",
      "\u001b[0;32m~/opt/anaconda3/lib/python3.7/site-packages/ipywidgets/widgets/widget.py\u001b[0m in \u001b[0;36mset_state\u001b[0;34m(self, sync_data)\u001b[0m\n\u001b[1;32m    543\u001b[0m                     from_json = self.trait_metadata(name, 'from_json',\n\u001b[1;32m    544\u001b[0m                                                     self._trait_from_json)\n\u001b[0;32m--> 545\u001b[0;31m                     \u001b[0mself\u001b[0m\u001b[0;34m.\u001b[0m\u001b[0mset_trait\u001b[0m\u001b[0;34m(\u001b[0m\u001b[0mname\u001b[0m\u001b[0;34m,\u001b[0m \u001b[0mfrom_json\u001b[0m\u001b[0;34m(\u001b[0m\u001b[0msync_data\u001b[0m\u001b[0;34m[\u001b[0m\u001b[0mname\u001b[0m\u001b[0;34m]\u001b[0m\u001b[0;34m,\u001b[0m \u001b[0mself\u001b[0m\u001b[0;34m)\u001b[0m\u001b[0;34m)\u001b[0m\u001b[0;34m\u001b[0m\u001b[0;34m\u001b[0m\u001b[0m\n\u001b[0m\u001b[1;32m    546\u001b[0m \u001b[0;34m\u001b[0m\u001b[0m\n\u001b[1;32m    547\u001b[0m     \u001b[0;32mdef\u001b[0m \u001b[0msend\u001b[0m\u001b[0;34m(\u001b[0m\u001b[0mself\u001b[0m\u001b[0;34m,\u001b[0m \u001b[0mcontent\u001b[0m\u001b[0;34m,\u001b[0m \u001b[0mbuffers\u001b[0m\u001b[0;34m=\u001b[0m\u001b[0;32mNone\u001b[0m\u001b[0;34m)\u001b[0m\u001b[0;34m:\u001b[0m\u001b[0;34m\u001b[0m\u001b[0;34m\u001b[0m\u001b[0m\n",
      "\u001b[0;32m~/opt/anaconda3/lib/python3.7/contextlib.py\u001b[0m in \u001b[0;36m__exit__\u001b[0;34m(self, type, value, traceback)\u001b[0m\n\u001b[1;32m    117\u001b[0m         \u001b[0;32mif\u001b[0m \u001b[0mtype\u001b[0m \u001b[0;32mis\u001b[0m \u001b[0;32mNone\u001b[0m\u001b[0;34m:\u001b[0m\u001b[0;34m\u001b[0m\u001b[0;34m\u001b[0m\u001b[0m\n\u001b[1;32m    118\u001b[0m             \u001b[0;32mtry\u001b[0m\u001b[0;34m:\u001b[0m\u001b[0;34m\u001b[0m\u001b[0;34m\u001b[0m\u001b[0m\n\u001b[0;32m--> 119\u001b[0;31m                 \u001b[0mnext\u001b[0m\u001b[0;34m(\u001b[0m\u001b[0mself\u001b[0m\u001b[0;34m.\u001b[0m\u001b[0mgen\u001b[0m\u001b[0;34m)\u001b[0m\u001b[0;34m\u001b[0m\u001b[0;34m\u001b[0m\u001b[0m\n\u001b[0m\u001b[1;32m    120\u001b[0m             \u001b[0;32mexcept\u001b[0m \u001b[0mStopIteration\u001b[0m\u001b[0;34m:\u001b[0m\u001b[0;34m\u001b[0m\u001b[0;34m\u001b[0m\u001b[0m\n\u001b[1;32m    121\u001b[0m                 \u001b[0;32mreturn\u001b[0m \u001b[0;32mFalse\u001b[0m\u001b[0;34m\u001b[0m\u001b[0;34m\u001b[0m\u001b[0m\n",
      "\u001b[0;32m~/opt/anaconda3/lib/python3.7/site-packages/traitlets/traitlets.py\u001b[0m in \u001b[0;36mhold_trait_notifications\u001b[0;34m(self)\u001b[0m\n\u001b[1;32m   1129\u001b[0m                 \u001b[0;32mfor\u001b[0m \u001b[0mchanges\u001b[0m \u001b[0;32min\u001b[0m \u001b[0mcache\u001b[0m\u001b[0;34m.\u001b[0m\u001b[0mvalues\u001b[0m\u001b[0;34m(\u001b[0m\u001b[0;34m)\u001b[0m\u001b[0;34m:\u001b[0m\u001b[0;34m\u001b[0m\u001b[0;34m\u001b[0m\u001b[0m\n\u001b[1;32m   1130\u001b[0m                     \u001b[0;32mfor\u001b[0m \u001b[0mchange\u001b[0m \u001b[0;32min\u001b[0m \u001b[0mchanges\u001b[0m\u001b[0;34m:\u001b[0m\u001b[0;34m\u001b[0m\u001b[0;34m\u001b[0m\u001b[0m\n\u001b[0;32m-> 1131\u001b[0;31m                         \u001b[0mself\u001b[0m\u001b[0;34m.\u001b[0m\u001b[0mnotify_change\u001b[0m\u001b[0;34m(\u001b[0m\u001b[0mchange\u001b[0m\u001b[0;34m)\u001b[0m\u001b[0;34m\u001b[0m\u001b[0;34m\u001b[0m\u001b[0m\n\u001b[0m\u001b[1;32m   1132\u001b[0m \u001b[0;34m\u001b[0m\u001b[0m\n\u001b[1;32m   1133\u001b[0m     \u001b[0;32mdef\u001b[0m \u001b[0m_notify_trait\u001b[0m\u001b[0;34m(\u001b[0m\u001b[0mself\u001b[0m\u001b[0;34m,\u001b[0m \u001b[0mname\u001b[0m\u001b[0;34m,\u001b[0m \u001b[0mold_value\u001b[0m\u001b[0;34m,\u001b[0m \u001b[0mnew_value\u001b[0m\u001b[0;34m)\u001b[0m\u001b[0;34m:\u001b[0m\u001b[0;34m\u001b[0m\u001b[0;34m\u001b[0m\u001b[0m\n",
      "\u001b[0;32m~/opt/anaconda3/lib/python3.7/site-packages/ipywidgets/widgets/widget.py\u001b[0m in \u001b[0;36mnotify_change\u001b[0;34m(self, change)\u001b[0m\n\u001b[1;32m    604\u001b[0m                 \u001b[0;31m# Send new state to front-end\u001b[0m\u001b[0;34m\u001b[0m\u001b[0;34m\u001b[0m\u001b[0;34m\u001b[0m\u001b[0m\n\u001b[1;32m    605\u001b[0m                 \u001b[0mself\u001b[0m\u001b[0;34m.\u001b[0m\u001b[0msend_state\u001b[0m\u001b[0;34m(\u001b[0m\u001b[0mkey\u001b[0m\u001b[0;34m=\u001b[0m\u001b[0mname\u001b[0m\u001b[0;34m)\u001b[0m\u001b[0;34m\u001b[0m\u001b[0;34m\u001b[0m\u001b[0m\n\u001b[0;32m--> 606\u001b[0;31m         \u001b[0msuper\u001b[0m\u001b[0;34m(\u001b[0m\u001b[0mWidget\u001b[0m\u001b[0;34m,\u001b[0m \u001b[0mself\u001b[0m\u001b[0;34m)\u001b[0m\u001b[0;34m.\u001b[0m\u001b[0mnotify_change\u001b[0m\u001b[0;34m(\u001b[0m\u001b[0mchange\u001b[0m\u001b[0;34m)\u001b[0m\u001b[0;34m\u001b[0m\u001b[0;34m\u001b[0m\u001b[0m\n\u001b[0m\u001b[1;32m    607\u001b[0m \u001b[0;34m\u001b[0m\u001b[0m\n\u001b[1;32m    608\u001b[0m     \u001b[0;32mdef\u001b[0m \u001b[0m__repr__\u001b[0m\u001b[0;34m(\u001b[0m\u001b[0mself\u001b[0m\u001b[0;34m)\u001b[0m\u001b[0;34m:\u001b[0m\u001b[0;34m\u001b[0m\u001b[0;34m\u001b[0m\u001b[0m\n",
      "\u001b[0;32m~/opt/anaconda3/lib/python3.7/site-packages/traitlets/traitlets.py\u001b[0m in \u001b[0;36mnotify_change\u001b[0;34m(self, change)\u001b[0m\n\u001b[1;32m   1174\u001b[0m                 \u001b[0mc\u001b[0m \u001b[0;34m=\u001b[0m \u001b[0mgetattr\u001b[0m\u001b[0;34m(\u001b[0m\u001b[0mself\u001b[0m\u001b[0;34m,\u001b[0m \u001b[0mc\u001b[0m\u001b[0;34m.\u001b[0m\u001b[0mname\u001b[0m\u001b[0;34m)\u001b[0m\u001b[0;34m\u001b[0m\u001b[0;34m\u001b[0m\u001b[0m\n\u001b[1;32m   1175\u001b[0m \u001b[0;34m\u001b[0m\u001b[0m\n\u001b[0;32m-> 1176\u001b[0;31m             \u001b[0mc\u001b[0m\u001b[0;34m(\u001b[0m\u001b[0mchange\u001b[0m\u001b[0;34m)\u001b[0m\u001b[0;34m\u001b[0m\u001b[0;34m\u001b[0m\u001b[0m\n\u001b[0m\u001b[1;32m   1177\u001b[0m \u001b[0;34m\u001b[0m\u001b[0m\n\u001b[1;32m   1178\u001b[0m     \u001b[0;32mdef\u001b[0m \u001b[0m_add_notifiers\u001b[0m\u001b[0;34m(\u001b[0m\u001b[0mself\u001b[0m\u001b[0;34m,\u001b[0m \u001b[0mhandler\u001b[0m\u001b[0;34m,\u001b[0m \u001b[0mname\u001b[0m\u001b[0;34m,\u001b[0m \u001b[0mtype\u001b[0m\u001b[0;34m)\u001b[0m\u001b[0;34m:\u001b[0m\u001b[0;34m\u001b[0m\u001b[0;34m\u001b[0m\u001b[0m\n",
      "\u001b[0;32m~/opt/anaconda3/lib/python3.7/site-packages/ipywidgets/widgets/widget_selection.py\u001b[0m in \u001b[0;36m_propagate_index\u001b[0;34m(self, change)\u001b[0m\n\u001b[1;32m    233\u001b[0m             \u001b[0mself\u001b[0m\u001b[0;34m.\u001b[0m\u001b[0mlabel\u001b[0m \u001b[0;34m=\u001b[0m \u001b[0mlabel\u001b[0m\u001b[0;34m\u001b[0m\u001b[0;34m\u001b[0m\u001b[0m\n\u001b[1;32m    234\u001b[0m         \u001b[0;32mif\u001b[0m \u001b[0mself\u001b[0m\u001b[0;34m.\u001b[0m\u001b[0mvalue\u001b[0m \u001b[0;32mis\u001b[0m \u001b[0;32mnot\u001b[0m \u001b[0mvalue\u001b[0m\u001b[0;34m:\u001b[0m\u001b[0;34m\u001b[0m\u001b[0;34m\u001b[0m\u001b[0m\n\u001b[0;32m--> 235\u001b[0;31m             \u001b[0mself\u001b[0m\u001b[0;34m.\u001b[0m\u001b[0mvalue\u001b[0m \u001b[0;34m=\u001b[0m \u001b[0mvalue\u001b[0m\u001b[0;34m\u001b[0m\u001b[0;34m\u001b[0m\u001b[0m\n\u001b[0m\u001b[1;32m    236\u001b[0m \u001b[0;34m\u001b[0m\u001b[0m\n\u001b[1;32m    237\u001b[0m     \u001b[0;34m@\u001b[0m\u001b[0mvalidate\u001b[0m\u001b[0;34m(\u001b[0m\u001b[0;34m'value'\u001b[0m\u001b[0;34m)\u001b[0m\u001b[0;34m\u001b[0m\u001b[0;34m\u001b[0m\u001b[0m\n",
      "\u001b[0;32m~/opt/anaconda3/lib/python3.7/site-packages/traitlets/traitlets.py\u001b[0m in \u001b[0;36m__set__\u001b[0;34m(self, obj, value)\u001b[0m\n\u001b[1;32m    583\u001b[0m             \u001b[0;32mraise\u001b[0m \u001b[0mTraitError\u001b[0m\u001b[0;34m(\u001b[0m\u001b[0;34m'The \"%s\" trait is read-only.'\u001b[0m \u001b[0;34m%\u001b[0m \u001b[0mself\u001b[0m\u001b[0;34m.\u001b[0m\u001b[0mname\u001b[0m\u001b[0;34m)\u001b[0m\u001b[0;34m\u001b[0m\u001b[0;34m\u001b[0m\u001b[0m\n\u001b[1;32m    584\u001b[0m         \u001b[0;32melse\u001b[0m\u001b[0;34m:\u001b[0m\u001b[0;34m\u001b[0m\u001b[0;34m\u001b[0m\u001b[0m\n\u001b[0;32m--> 585\u001b[0;31m             \u001b[0mself\u001b[0m\u001b[0;34m.\u001b[0m\u001b[0mset\u001b[0m\u001b[0;34m(\u001b[0m\u001b[0mobj\u001b[0m\u001b[0;34m,\u001b[0m \u001b[0mvalue\u001b[0m\u001b[0;34m)\u001b[0m\u001b[0;34m\u001b[0m\u001b[0;34m\u001b[0m\u001b[0m\n\u001b[0m\u001b[1;32m    586\u001b[0m \u001b[0;34m\u001b[0m\u001b[0m\n\u001b[1;32m    587\u001b[0m     \u001b[0;32mdef\u001b[0m \u001b[0m_validate\u001b[0m\u001b[0;34m(\u001b[0m\u001b[0mself\u001b[0m\u001b[0;34m,\u001b[0m \u001b[0mobj\u001b[0m\u001b[0;34m,\u001b[0m \u001b[0mvalue\u001b[0m\u001b[0;34m)\u001b[0m\u001b[0;34m:\u001b[0m\u001b[0;34m\u001b[0m\u001b[0;34m\u001b[0m\u001b[0m\n",
      "\u001b[0;32m~/opt/anaconda3/lib/python3.7/site-packages/traitlets/traitlets.py\u001b[0m in \u001b[0;36mset\u001b[0;34m(self, obj, value)\u001b[0m\n\u001b[1;32m    572\u001b[0m             \u001b[0;31m# we explicitly compare silent to True just in case the equality\u001b[0m\u001b[0;34m\u001b[0m\u001b[0;34m\u001b[0m\u001b[0;34m\u001b[0m\u001b[0m\n\u001b[1;32m    573\u001b[0m             \u001b[0;31m# comparison above returns something other than True/False\u001b[0m\u001b[0;34m\u001b[0m\u001b[0;34m\u001b[0m\u001b[0;34m\u001b[0m\u001b[0m\n\u001b[0;32m--> 574\u001b[0;31m             \u001b[0mobj\u001b[0m\u001b[0;34m.\u001b[0m\u001b[0m_notify_trait\u001b[0m\u001b[0;34m(\u001b[0m\u001b[0mself\u001b[0m\u001b[0;34m.\u001b[0m\u001b[0mname\u001b[0m\u001b[0;34m,\u001b[0m \u001b[0mold_value\u001b[0m\u001b[0;34m,\u001b[0m \u001b[0mnew_value\u001b[0m\u001b[0;34m)\u001b[0m\u001b[0;34m\u001b[0m\u001b[0;34m\u001b[0m\u001b[0m\n\u001b[0m\u001b[1;32m    575\u001b[0m \u001b[0;34m\u001b[0m\u001b[0m\n\u001b[1;32m    576\u001b[0m     \u001b[0;32mdef\u001b[0m \u001b[0m__set__\u001b[0m\u001b[0;34m(\u001b[0m\u001b[0mself\u001b[0m\u001b[0;34m,\u001b[0m \u001b[0mobj\u001b[0m\u001b[0;34m,\u001b[0m \u001b[0mvalue\u001b[0m\u001b[0;34m)\u001b[0m\u001b[0;34m:\u001b[0m\u001b[0;34m\u001b[0m\u001b[0;34m\u001b[0m\u001b[0m\n",
      "\u001b[0;32m~/opt/anaconda3/lib/python3.7/site-packages/traitlets/traitlets.py\u001b[0m in \u001b[0;36m_notify_trait\u001b[0;34m(self, name, old_value, new_value)\u001b[0m\n\u001b[1;32m   1137\u001b[0m             \u001b[0mnew\u001b[0m\u001b[0;34m=\u001b[0m\u001b[0mnew_value\u001b[0m\u001b[0;34m,\u001b[0m\u001b[0;34m\u001b[0m\u001b[0;34m\u001b[0m\u001b[0m\n\u001b[1;32m   1138\u001b[0m             \u001b[0mowner\u001b[0m\u001b[0;34m=\u001b[0m\u001b[0mself\u001b[0m\u001b[0;34m,\u001b[0m\u001b[0;34m\u001b[0m\u001b[0;34m\u001b[0m\u001b[0m\n\u001b[0;32m-> 1139\u001b[0;31m             \u001b[0mtype\u001b[0m\u001b[0;34m=\u001b[0m\u001b[0;34m'change'\u001b[0m\u001b[0;34m,\u001b[0m\u001b[0;34m\u001b[0m\u001b[0;34m\u001b[0m\u001b[0m\n\u001b[0m\u001b[1;32m   1140\u001b[0m         ))\n\u001b[1;32m   1141\u001b[0m \u001b[0;34m\u001b[0m\u001b[0m\n",
      "\u001b[0;32m~/opt/anaconda3/lib/python3.7/site-packages/ipywidgets/widgets/widget.py\u001b[0m in \u001b[0;36mnotify_change\u001b[0;34m(self, change)\u001b[0m\n\u001b[1;32m    604\u001b[0m                 \u001b[0;31m# Send new state to front-end\u001b[0m\u001b[0;34m\u001b[0m\u001b[0;34m\u001b[0m\u001b[0;34m\u001b[0m\u001b[0m\n\u001b[1;32m    605\u001b[0m                 \u001b[0mself\u001b[0m\u001b[0;34m.\u001b[0m\u001b[0msend_state\u001b[0m\u001b[0;34m(\u001b[0m\u001b[0mkey\u001b[0m\u001b[0;34m=\u001b[0m\u001b[0mname\u001b[0m\u001b[0;34m)\u001b[0m\u001b[0;34m\u001b[0m\u001b[0;34m\u001b[0m\u001b[0m\n\u001b[0;32m--> 606\u001b[0;31m         \u001b[0msuper\u001b[0m\u001b[0;34m(\u001b[0m\u001b[0mWidget\u001b[0m\u001b[0;34m,\u001b[0m \u001b[0mself\u001b[0m\u001b[0;34m)\u001b[0m\u001b[0;34m.\u001b[0m\u001b[0mnotify_change\u001b[0m\u001b[0;34m(\u001b[0m\u001b[0mchange\u001b[0m\u001b[0;34m)\u001b[0m\u001b[0;34m\u001b[0m\u001b[0;34m\u001b[0m\u001b[0m\n\u001b[0m\u001b[1;32m    607\u001b[0m \u001b[0;34m\u001b[0m\u001b[0m\n\u001b[1;32m    608\u001b[0m     \u001b[0;32mdef\u001b[0m \u001b[0m__repr__\u001b[0m\u001b[0;34m(\u001b[0m\u001b[0mself\u001b[0m\u001b[0;34m)\u001b[0m\u001b[0;34m:\u001b[0m\u001b[0;34m\u001b[0m\u001b[0;34m\u001b[0m\u001b[0m\n",
      "\u001b[0;32m~/opt/anaconda3/lib/python3.7/site-packages/traitlets/traitlets.py\u001b[0m in \u001b[0;36mnotify_change\u001b[0;34m(self, change)\u001b[0m\n\u001b[1;32m   1174\u001b[0m                 \u001b[0mc\u001b[0m \u001b[0;34m=\u001b[0m \u001b[0mgetattr\u001b[0m\u001b[0;34m(\u001b[0m\u001b[0mself\u001b[0m\u001b[0;34m,\u001b[0m \u001b[0mc\u001b[0m\u001b[0;34m.\u001b[0m\u001b[0mname\u001b[0m\u001b[0;34m)\u001b[0m\u001b[0;34m\u001b[0m\u001b[0;34m\u001b[0m\u001b[0m\n\u001b[1;32m   1175\u001b[0m \u001b[0;34m\u001b[0m\u001b[0m\n\u001b[0;32m-> 1176\u001b[0;31m             \u001b[0mc\u001b[0m\u001b[0;34m(\u001b[0m\u001b[0mchange\u001b[0m\u001b[0;34m)\u001b[0m\u001b[0;34m\u001b[0m\u001b[0;34m\u001b[0m\u001b[0m\n\u001b[0m\u001b[1;32m   1177\u001b[0m \u001b[0;34m\u001b[0m\u001b[0m\n\u001b[1;32m   1178\u001b[0m     \u001b[0;32mdef\u001b[0m \u001b[0m_add_notifiers\u001b[0m\u001b[0;34m(\u001b[0m\u001b[0mself\u001b[0m\u001b[0;34m,\u001b[0m \u001b[0mhandler\u001b[0m\u001b[0;34m,\u001b[0m \u001b[0mname\u001b[0m\u001b[0;34m,\u001b[0m \u001b[0mtype\u001b[0m\u001b[0;34m)\u001b[0m\u001b[0;34m:\u001b[0m\u001b[0;34m\u001b[0m\u001b[0;34m\u001b[0m\u001b[0m\n",
      "\u001b[0;32m<ipython-input-47-3737799d9092>\u001b[0m in \u001b[0;36mon_change\u001b[0;34m(change)\u001b[0m\n\u001b[1;32m     11\u001b[0m     \u001b[0;32melif\u001b[0m \u001b[0;34m(\u001b[0m\u001b[0mchange\u001b[0m\u001b[0;34m.\u001b[0m\u001b[0mnew\u001b[0m \u001b[0;34m==\u001b[0m \u001b[0;34m\"Misc\"\u001b[0m\u001b[0;34m)\u001b[0m\u001b[0;34m:\u001b[0m\u001b[0;34m\u001b[0m\u001b[0;34m\u001b[0m\u001b[0m\n\u001b[1;32m     12\u001b[0m         \u001b[0mopt\u001b[0m \u001b[0;34m=\u001b[0m \u001b[0mpopulation_data\u001b[0m\u001b[0;34m\u001b[0m\u001b[0;34m\u001b[0m\u001b[0m\n\u001b[0;32m---> 13\u001b[0;31m     \u001b[0mdropdown_var1\u001b[0m \u001b[0;34m=\u001b[0m \u001b[0mwidgets\u001b[0m\u001b[0;34m.\u001b[0m\u001b[0mDropdown\u001b[0m\u001b[0;34m(\u001b[0m\u001b[0mdescription\u001b[0m \u001b[0;34m=\u001b[0m \u001b[0mchange\u001b[0m\u001b[0;34m.\u001b[0m\u001b[0mnew\u001b[0m \u001b[0;34m,\u001b[0m \u001b[0moptions\u001b[0m \u001b[0;34m=\u001b[0m \u001b[0mopt\u001b[0m\u001b[0;34m)\u001b[0m\u001b[0;34m\u001b[0m\u001b[0;34m\u001b[0m\u001b[0m\n\u001b[0m\u001b[1;32m     14\u001b[0m     \u001b[0mdropdown_var1\u001b[0m\u001b[0;34m.\u001b[0m\u001b[0mobserve\u001b[0m\u001b[0;34m(\u001b[0m\u001b[0mon_change\u001b[0m\u001b[0;34m,\u001b[0m \u001b[0mnames\u001b[0m \u001b[0;34m=\u001b[0m \u001b[0;34m\"value\"\u001b[0m\u001b[0;34m)\u001b[0m\u001b[0;34m\u001b[0m\u001b[0;34m\u001b[0m\u001b[0m\n\u001b[1;32m     15\u001b[0m     \u001b[0mdisplay\u001b[0m\u001b[0;34m(\u001b[0m\u001b[0mdropdown_var1\u001b[0m\u001b[0;34m)\u001b[0m\u001b[0;34m\u001b[0m\u001b[0;34m\u001b[0m\u001b[0m\n",
      "\u001b[0;31mUnboundLocalError\u001b[0m: local variable 'opt' referenced before assignment"
     ]
    }
   ],
   "source": [
    "dropdown_var1_type = widgets.Dropdown(description = \"Choose Independent Variable\" , options = [\"Deaths\", \"Cases\", \"Tests\", \"Population\", \"Misc\"])\n",
    "def on_change(change):\n",
    "    if (change.new == \"Deaths\"):\n",
    "        opt = death_data\n",
    "    elif (change.new == \"Cases\"):\n",
    "        opt = cases_data\n",
    "    elif (change.new == \"Tests\"):\n",
    "        opt = tests_data\n",
    "    elif (change.new == \"Population\"):\n",
    "        opt = population_data\n",
    "    elif (change.new == \"Misc\"):\n",
    "        opt = population_data\n",
    "    dropdown_var1 = widgets.Dropdown(description = change.new , options = opt)\n",
    "    dropdown_var1.observe(on_change, names = \"value\")\n",
    "    display(dropdown_var1)\n",
    "dropdown_var1_type.observe(on_change, names = \"value\")\n",
    "display(dropdown_var1_type)"
   ]
  },
  {
   "cell_type": "code",
   "execution_count": 51,
   "metadata": {},
   "outputs": [
    {
     "name": "stdout",
     "output_type": "stream",
     "text": [
      "Dropdown(description='Number', index=1, options=('1', '2', '3'), value='2')\n"
     ]
    }
   ],
   "source": [
    "x = widgets.Dropdown(options = [\"1\", \"2\", \"3\"], value = \"2\", description = \"Number\", disabled = False)\n"
   ]
  },
  {
   "cell_type": "code",
   "execution_count": 52,
   "metadata": {},
   "outputs": [
    {
     "ename": "AttributeError",
     "evalue": "'Dropdown' object has no attribute 'Output'",
     "output_type": "error",
     "traceback": [
      "\u001b[0;31m---------------------------------------------------------------------------\u001b[0m",
      "\u001b[0;31mAttributeError\u001b[0m                            Traceback (most recent call last)",
      "\u001b[0;32m<ipython-input-52-0d3a844cc196>\u001b[0m in \u001b[0;36m<module>\u001b[0;34m\u001b[0m\n\u001b[0;32m----> 1\u001b[0;31m \u001b[0my\u001b[0m \u001b[0;34m=\u001b[0m \u001b[0mx\u001b[0m\u001b[0;34m.\u001b[0m\u001b[0mOutput\u001b[0m\u001b[0;34m(\u001b[0m\u001b[0;34m)\u001b[0m\u001b[0;34m\u001b[0m\u001b[0;34m\u001b[0m\u001b[0m\n\u001b[0m",
      "\u001b[0;31mAttributeError\u001b[0m: 'Dropdown' object has no attribute 'Output'"
     ]
    }
   ],
   "source": []
  },
  {
   "cell_type": "code",
   "execution_count": 39,
   "metadata": {},
   "outputs": [
    {
     "name": "stdout",
     "output_type": "stream",
     "text": [
      "Enter type of variable 1 out of Deaths, Cases, Tests, Population or Other: Deaths\n",
      "\n",
      "new_deaths, new_deaths_per_million, total_deaths, total_deaths_per_million, \n",
      "Choose and enter variable 1 from the above list: total_deaths\n",
      "Enter type of variable 2 out of Time, Deaths, Cases, Tests, Population or Other: Time\n",
      "Enter Starting Date in YYYY-MM-DD: 2020-03-20\n",
      "Enter ending date in YYYY-MM-DD: 2020-04-27\n",
      "Select a country or 'World': Sweden\n"
     ]
    },
    {
     "data": {
      "image/png": "[encoded data removed]",
      "text/plain": [
       "<Figure size 432x288 with 1 Axes>"
      ]
     },
     "metadata": {
      "needs_background": "light"
     },
     "output_type": "display_data"
    }
   ],
   "source": [
    "var1_type = input(\"Enter type of variable 1 out of Deaths, Cases, Tests, Population or Other: \")\n",
    "if var1_type not in variables_dict.keys():\n",
    "    var1_type = \"Misc\"\n",
    "print(\"\")\n",
    "for i in variables_dict[var1_type]:\n",
    "    print(i, end = \", \")\n",
    "print(\"\")\n",
    "var1 = input(\"Choose and enter variable 1 from the above list: \")\n",
    "\n",
    "if var1_type in [\"Deaths\", \"Cases\", \"Tests\"]:\n",
    "    var2_type = input(\"Enter type of variable 2 out of Time, Deaths, Cases, Tests, Population or Other: \")\n",
    "    \n",
    "    if var2_type == \"Time\":\n",
    "        date1 = input(\"Enter Starting Date in YYYY-MM-DD: \")\n",
    "        date2 = input(\"Enter ending date in YYYY-MM-DD: \")\n",
    "        location  = input(\"Select a country or 'World': \")\n",
    "        generate_plot(\"Time\", var1, location, [date1, date2])\n",
    "        \n",
    "    elif var2_type in [\"Deaths\", \"Cases\", \"Tests\"]:\n",
    "        for i in variables_dict[var1_type]:\n",
    "            if var1 is not i:\n",
    "                print(i, end = \", \")\n",
    "        var2 = input(\"Choose and enter variable 2 from the above list: \")\n",
    "        date1 = input(\"Enter Starting Date in YYYY-MM-DD: \")\n",
    "        date2 = input(\"Enter Ending Date in YYYY-MM-DD: \")\n",
    "        location  = input(\"Select a country or 'World': \")\n",
    "        generate_plot(var2, var1, location, [date1, date2])\n",
    "    \n",
    "    else:\n",
    "        for i in variables_dict[var2_type]:\n",
    "            print(i, end = \", \")\n",
    "        var2 = input(\"Choose and enter variable 2 from the above list: \")\n",
    "        date = input(\"Enter Date in YYYY-MM-DD: \")\n",
    "        generate_plot(var2, var1, \"World\", [date])\n",
    "else:\n",
    "    var2_type = input(\"Enter type of variable 2 out of Deaths, Cases, Tests, Population or Other: \")\n",
    "    if var2_type == \"Other\":\n",
    "        var2_type = \"Misc\"\n",
    "    for i in variables_dict[var2_type]:\n",
    "        print(i, end = \", \")\n",
    "    if var2_type in [\"Deaths\", \"Cases\", \"Tests\"]:\n",
    "        var2 = input(\"Choose and enter variable 2 from the above list: \")\n",
    "        date = input(\"Enter date in YYYY-MM-DD: \")\n",
    "        generate_plot(var1, var2, \"World\", [date])\n",
    "    else:\n",
    "        var2 = input(\"Choose and enter variable 2 from the above list: \")\n",
    "        date = input(\"Enter date in YYYY-MM-DD: \")\n",
    "        \n",
    "        \n",
    "        \n",
    "    \n",
    "    \n",
    "        \n"
   ]
  },
  {
   "cell_type": "code",
   "execution_count": 57,
   "metadata": {},
   "outputs": [],
   "source": [
    "x = widgets.Dropdown(options = [\"1\", \"2\", \"3\"], value = \"2\", description = \"Number\", disabled = False)"
   ]
  },
  {
   "cell_type": "code",
   "execution_count": 58,
   "metadata": {},
   "outputs": [
    {
     "data": {
      "application/vnd.jupyter.widget-view+json": {
       "model_id": "3c41484fbf1c4bd78c38d96364fd9bf1",
       "version_major": 2,
       "version_minor": 0
      },
      "text/plain": [
       "Dropdown(description='Number', index=1, options=('1', '2', '3'), value='2')"
      ]
     },
     "metadata": {},
     "output_type": "display_data"
    }
   ],
   "source": [
    "display(x)"
   ]
  },
  {
   "cell_type": "code",
   "execution_count": 96,
   "metadata": {},
   "outputs": [
    {
     "name": "stdout",
     "output_type": "stream",
     "text": [
      "Choose type of variable 1\n"
     ]
    },
    {
     "data": {
      "application/vnd.jupyter.widget-view+json": {
       "model_id": "57116d20cdc842cfbf058d48ab9753ec",
       "version_major": 2,
       "version_minor": 0
      },
      "text/plain": [
       "Dropdown(description='Choose', options=('Deaths', 'Cases', 'Tests', 'Population', 'Misc'), value='Deaths')"
      ]
     },
     "metadata": {},
     "output_type": "display_data"
    }
   ],
   "source": [
    "print(\"Choose type of variable 1\")\n",
    "var1_type = \"Deaths\"\n",
    "drop_down = widgets.Dropdown(options = [\"Deaths\", \"Cases\", \"Tests\", \"Population\", \"Misc\"], description = \"Choose\", disabled = False)\n",
    "output = widgets.Output()\n",
    "def drop_handler(change):\n",
    "    global var1_type\n",
    "    output.clear_output()\n",
    "    with output:\n",
    "        var1_type = change.new\n",
    "        var1 = \"total_deaths\"\n",
    "        drop_down2 = widgets.Dropdown(options = variables_dict[var1_type], description = \"Choose\", disabled = False)\n",
    "        def drop_handler2(change):\n",
    "            global var1\n",
    "            var1 = change.new\n",
    "        drop_down2.observe(drop_handler2, names = \"value\")\n",
    "        display(drop_down2)\n",
    "drop_down.observe(drop_handler, names = \"value\")\n",
    "display(drop_down)\n",
    "\n",
    "\n"
   ]
  },
  {
   "cell_type": "code",
   "execution_count": 97,
   "metadata": {},
   "outputs": [
    {
     "data": {
      "application/vnd.jupyter.widget-view+json": {
       "model_id": "82150ef52a444e5b9507318e6fda7ad3",
       "version_major": 2,
       "version_minor": 0
      },
      "text/plain": [
       "Output()"
      ]
     },
     "metadata": {},
     "output_type": "display_data"
    }
   ],
   "source": [
    "display(output)\n"
   ]
  },
  {
   "cell_type": "code",
   "execution_count": 83,
   "metadata": {},
   "outputs": [
    {
     "data": {
      "text/plain": [
       "'Cases'"
      ]
     },
     "execution_count": 83,
     "metadata": {},
     "output_type": "execute_result"
    }
   ],
   "source": [
    "var1_type"
   ]
  },
  {
   "cell_type": "code",
   "execution_count": 84,
   "metadata": {},
   "outputs": [
    {
     "data": {
      "text/plain": [
       "['new_cases', 'new_cases_per_million', 'total_cases', 'new_cases_per_million']"
      ]
     },
     "execution_count": 84,
     "metadata": {},
     "output_type": "execute_result"
    }
   ],
   "source": [
    "variables_dict[var1_type]"
   ]
  },
  {
   "cell_type": "code",
   "execution_count": 301,
   "metadata": {},
   "outputs": [
    {
     "data": {
      "application/vnd.jupyter.widget-view+json": {
       "model_id": "9fd6a4dbf451443585fa6599f56ed856",
       "version_major": 2,
       "version_minor": 0
      },
      "text/plain": [
       "Dropdown(description='Var 1 Type', options=('Deaths', 'Cases', 'Tests', 'Population', 'Misc'), value='Deaths')"
      ]
     },
     "metadata": {},
     "output_type": "display_data"
    },
    {
     "data": {
      "application/vnd.jupyter.widget-view+json": {
       "model_id": "811c3b3952284f139db074e57f957fe2",
       "version_major": 2,
       "version_minor": 0
      },
      "text/plain": [
       "Output()"
      ]
     },
     "metadata": {},
     "output_type": "display_data"
    },
    {
     "data": {
      "application/vnd.jupyter.widget-view+json": {
       "model_id": "9f0f33e4b75e4e6f9ba6fdbe774bf38e",
       "version_major": 2,
       "version_minor": 0
      },
      "text/plain": [
       "Output()"
      ]
     },
     "metadata": {},
     "output_type": "display_data"
    },
    {
     "data": {
      "application/vnd.jupyter.widget-view+json": {
       "model_id": "8cf555d6d86f4b789d67310430d618e7",
       "version_major": 2,
       "version_minor": 0
      },
      "text/plain": [
       "Button(description='Confirm Variables', style=ButtonStyle())"
      ]
     },
     "metadata": {},
     "output_type": "display_data"
    }
   ],
   "source": [
    "var1_type_drop = widgets.Dropdown(options = [\"Deaths\", \"Cases\", \"Tests\", \"Population\", \"Misc\"], description = \"Var 1 Type\")\n",
    "var1_type = \"\"\n",
    "var1 = \"\"\n",
    "var2_type = \"\"\n",
    "var2 = \"\"\n",
    "\n",
    "    \n",
    "output = widgets.Output()\n",
    "output2 = widgets.Output()\n",
    "def var1type_drop_eventhandler(change):\n",
    "    output.clear_output()\n",
    "    with output:\n",
    "        global var1_type\n",
    "        var1_type = var1_type_drop.value\n",
    "        options_list = variables_dict[var1_type]\n",
    "\n",
    "        var1_drop = widgets.Dropdown(options = options_list, description = \"Variable 1\")\n",
    "        def var1_drop_eventhandler(change):\n",
    "            with output2:\n",
    "                global var1\n",
    "                global var2\n",
    "                var1 = var1_drop.value\n",
    "                print(var1)\n",
    "                if (var1 == var2):\n",
    "                    print(\"Invalid choice, please select different variables.\")\n",
    "                \n",
    "        var1_drop.observe(var1_drop_eventhandler, names = \"value\")\n",
    "        display(var1_drop)\n",
    "                \n",
    "        var2_type_drop = widgets.Dropdown(options = [\"Deaths\", \"Cases\", \"Tests\", \"Population\", \"Misc\", \"Time\"], description = \"Var 2 Type\")\n",
    "        def var2type_drop_eventhandler(change):\n",
    "            output2.clear_output()\n",
    "            with output2:\n",
    "                global var2_type\n",
    "                var2_type = var2_type_drop.value\n",
    "                \n",
    "                \n",
    "                if var2_type == \"Time\":\n",
    "                    options_list2 = [\"Custom Range\", \"All-Time\", \"\"]\n",
    "                else:\n",
    "                    options_list2 = [i for i in variables_dict[var2_type] if i is not var1]\n",
    "                var2_drop = widgets.Dropdown(options = options_list2, description = \"Variable 2\")\n",
    "                def var2_drop_eventhandler(change):\n",
    "                    with output2:\n",
    "                        global var2\n",
    "                        var2 = var2_drop.value\n",
    "                        print(var2)\n",
    "                var2_drop.observe(var2_drop_eventhandler, names = \"value\")\n",
    "                display(var2_drop)\n",
    "        var2_type_drop.observe(var2type_drop_eventhandler, names = \"value\")\n",
    "        display(var2_type_drop)\n",
    "                \n",
    "\n",
    "\n",
    "    \n",
    "var1_type_drop.observe(var1type_drop_eventhandler, names = \"value\")\n",
    "display(var1_type_drop)\n",
    "\n",
    "\n",
    "display(output)\n",
    "display(output2)\n",
    "\n",
    "confirm = widgets.Button(description = \"Confirm Variables\")\n",
    "display(confirm)\n",
    "\n",
    "locations = covid_df[\"location\"].unique()\n",
    "dates = covid_df[\"date\"].unique()\n",
    "date1 = \"\"\n",
    "date2 = \"\"\n",
    "location = \"\"\n",
    "out3 = widgets.Output()\n",
    "def confirm_eventhandler(obj):\n",
    "    out3.clear_output()\n",
    "    with out3:\n",
    "        if var1 == var2:\n",
    "            print(\"Please choose different variables, variable 1 and 2 cannot be the same.\")\n",
    "        elif var1_type in [\"Deaths\", \"Cases\", \"Tests\"]:\n",
    "            if var2_type == \"Time\":\n",
    "                if var2 == \"Custom Range\":\n",
    "                    date1_drop = widgets.Dropdown(options = dates, description = \"Start Date\")\n",
    "                    def date1_drop_eventhandler(change):\n",
    "                        global date1\n",
    "                        date1 = change.new\n",
    "                        date2_list = covid_df.loc[covid_df[\"date\"] > date1][\"date\"].unique()\n",
    "                        date2_drop = widgets.Dropdown(options = date2_list, description = \"End Date\")\n",
    "                        def date2_drop_eventhandler(change):\n",
    "                            global date2\n",
    "                            date2 = change.new\n",
    "                        date2_drop.observe(date2_drop_eventhandler, names = \"value\")\n",
    "                        display(date2_drop)\n",
    "                    date1_drop.observe(date1_drop_eventhandler, names = \"value\")\n",
    "                    display(date1_drop)\n",
    "                    location_drop = widgets.Dropdown(options = locations, description = \"Location\")\n",
    "                    def location_drop_eventhandler(change):\n",
    "                        global location\n",
    "                        location = change.new\n",
    "                    location_drop.observe(location_drop_eventhandler, names = \"value\")\n",
    "                    display(location_drop)\n",
    "confirm.on_click(confirm_eventhandler)\n",
    "            \n",
    "                \n",
    "\n",
    "            \n"
   ]
  },
  {
   "cell_type": "code",
   "execution_count": 297,
   "metadata": {},
   "outputs": [
    {
     "data": {
      "text/plain": [
       "''"
      ]
     },
     "execution_count": 297,
     "metadata": {},
     "output_type": "execute_result"
    }
   ],
   "source": [
    "var1"
   ]
  },
  {
   "cell_type": "code",
   "execution_count": 285,
   "metadata": {},
   "outputs": [
    {
     "name": "stdout",
     "output_type": "stream",
     "text": [
      "2020-07-22\n"
     ]
    }
   ],
   "source": [
    "print(date1)"
   ]
  },
  {
   "cell_type": "code",
   "execution_count": 207,
   "metadata": {},
   "outputs": [],
   "source": []
  },
  {
   "cell_type": "code",
   "execution_count": 212,
   "metadata": {},
   "outputs": [
    {
     "data": {
      "text/plain": [
       "['total_deaths_per_million']"
      ]
     },
     "execution_count": 212,
     "metadata": {},
     "output_type": "execute_result"
    }
   ],
   "source": [
    "x = list(variables_dict[\"Deaths\"])\n",
    "x.remove(\"new_deaths_per_million\")\n",
    "x"
   ]
  },
  {
   "cell_type": "code",
   "execution_count": 216,
   "metadata": {},
   "outputs": [
    {
     "data": {
      "text/plain": [
       "['new_deaths',\n",
       " 'new_deaths_per_million',\n",
       " 'total_deaths',\n",
       " 'total_deaths_per_million']"
      ]
     },
     "execution_count": 216,
     "metadata": {},
     "output_type": "execute_result"
    }
   ],
   "source": [
    "variables_dict[\"Deaths\"]"
   ]
  },
  {
   "cell_type": "code",
   "execution_count": null,
   "metadata": {},
   "outputs": [],
   "source": []
  }
 ],
 "metadata": {
  "kernelspec": {
   "display_name": "Python 3",
   "language": "python",
   "name": "python3"
  },
  "language_info": {
   "codemirror_mode": {
    "name": "ipython",
    "version": 3
   },
   "file_extension": ".py",
   "mimetype": "text/x-python",
   "name": "python",
   "nbconvert_exporter": "python",
   "pygments_lexer": "ipython3",
   "version": "3.7.4"
  }
 },
 "nbformat": 4,
 "nbformat_minor": 2
}
